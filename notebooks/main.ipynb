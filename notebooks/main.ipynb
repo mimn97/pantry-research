{
 "cells": [
  {
   "cell_type": "code",
   "execution_count": 48,
   "metadata": {},
   "outputs": [],
   "source": [
    "import pandas as pd\n",
    "import numpy as np\n",
    "import matplotlib.pyplot as plt\n",
    "import matplotlib.style as style\n",
    "from tqdm import tqdm\n",
    "import math\n",
    "import seaborn as sns\n",
    "\n",
    "from scipy.stats import norm\n",
    "import scipy.stats as st\n",
    "\n",
    "import warnings\n",
    "\n",
    "custom_params = {\"axes.spines.right\": False, \"axes.spines.top\": False}\n",
    "sns.set_theme(style=\"ticks\", rc=custom_params); np.random.seed(0)\n",
    "style.use('tableau-colorblind10')\n",
    "\n",
    "#%matplotlib inline\n",
    "tqdm.pandas()\n",
    "warnings.filterwarnings('ignore')\n",
    "\n",
    "# import plotly\n",
    "# import plotly.figure_factory as ff\n",
    "# import plotly.graph_objs as go \n",
    "# import plotly.express as px\n",
    "# import plotly.offline as pyo\n",
    "# from plotly.subplots import make_subplots\n",
    "#pyo.init_notebook_mode()"
   ]
  },
  {
   "cell_type": "markdown",
   "metadata": {},
   "source": [
    "# Load & Pre-process Datasets"
   ]
  },
  {
   "cell_type": "markdown",
   "metadata": {},
   "source": [
    "This procedures are essential to conduct our main analysis. "
   ]
  },
  {
   "cell_type": "markdown",
   "metadata": {},
   "source": [
    "1. Load `food` dataset which contains all 35.9M pairs of food pantry info and its BGs within 25 miles. We have created this dataset from the jupyter file `prepare_data_statistics.ipynb`. \n",
    "- There are 34,475 food pantries and banks (FPs) in the dataset. "
   ]
  },
  {
   "cell_type": "code",
   "execution_count": 2,
   "metadata": {},
   "outputs": [],
   "source": [
    "food = pd.read_pickle('../data/food_bg20_adi_st.pkl')"
   ]
  },
  {
   "cell_type": "code",
   "execution_count": 3,
   "metadata": {},
   "outputs": [
    {
     "name": "stdout",
     "output_type": "stream",
     "text": [
      "<class 'pandas.core.frame.DataFrame'>\n",
      "RangeIndex: 35940827 entries, 0 to 35940826\n",
      "Data columns (total 12 columns):\n",
      " #   Column         Dtype  \n",
      "---  ------         -----  \n",
      " 0   address        object \n",
      " 1   ad_lat         float64\n",
      " 2   ad_lon         float64\n",
      " 3   ad_bg_fips     object \n",
      " 4   bg_fips        object \n",
      " 5   bg_lat         float64\n",
      " 6   bg_lon         float64\n",
      " 7   distance_mi    float64\n",
      " 8   ADI_NATRANK    int64  \n",
      " 9   ADI_STATERNK   int64  \n",
      " 10  bg_state       object \n",
      " 11  address_state  object \n",
      "dtypes: float64(5), int64(2), object(5)\n",
      "memory usage: 3.2+ GB\n"
     ]
    }
   ],
   "source": [
    "food.info()"
   ]
  },
  {
   "cell_type": "code",
   "execution_count": 4,
   "metadata": {},
   "outputs": [
    {
     "data": {
      "text/plain": [
       "34475"
      ]
     },
     "execution_count": 4,
     "metadata": {},
     "output_type": "execute_result"
    }
   ],
   "source": [
    "food.address.nunique()"
   ]
  },
  {
   "cell_type": "markdown",
   "metadata": {},
   "source": [
    "2. Load `bg` dataset (the original ADI dataset from UW Madison's Neighborhood Atlas). This dataset will be mainly used for filtering BGs that do have FPs within 25 miles or not. \n",
    "\n",
    "- `bg_cont`: BGs in the continental U.S -> a total of 239,780 BGs in 50 states and the DC."
   ]
  },
  {
   "cell_type": "code",
   "execution_count": 5,
   "metadata": {},
   "outputs": [],
   "source": [
    "bg = pd.read_csv('../data/US_2020_ADI_Census Block Group_v3.2.csv',\n",
    "                dtype={'FIPS':str, 'ADI_NATRANK':str, 'ADI_STATERNK':str})\n",
    "bg = bg[['FIPS', 'ADI_NATRANK', 'ADI_STATERNK']]\n",
    "bg = bg.rename(columns={'FIPS':'bg_fips'})"
   ]
  },
  {
   "cell_type": "code",
   "execution_count": 6,
   "metadata": {},
   "outputs": [],
   "source": [
    "bg_cont = bg.loc[(~bg.bg_fips.str.startswith('72')) \n",
    "             & (~bg.bg_fips.str.startswith('78'))\n",
    "            & (~bg.bg_fips.str.startswith('69'))\n",
    "            & (~bg.bg_fips.str.startswith('66'))\n",
    "            & (~bg.bg_fips.str.startswith('60'))]"
   ]
  },
  {
   "cell_type": "code",
   "execution_count": 7,
   "metadata": {},
   "outputs": [
    {
     "data": {
      "text/plain": [
       "239780"
      ]
     },
     "execution_count": 7,
     "metadata": {},
     "output_type": "execute_result"
    }
   ],
   "source": [
    "bg_cont.bg_fips.nunique()"
   ]
  },
  {
   "cell_type": "markdown",
   "metadata": {},
   "source": [
    "3. Find and merge the state/county info for each BG\n",
    "\n",
    "- `find_sate_fips` retrieves the corresponding state information based on the first two digits of each BG's FIPS. \n",
    "- `us-state-fips.csv` contains all FIPS code of the 50 states and DC in the continental U.S.\n",
    "- Note that the first two and five digits of each BG's FIPS indicate the BG's state and county, respectively. "
   ]
  },
  {
   "cell_type": "code",
   "execution_count": 8,
   "metadata": {},
   "outputs": [],
   "source": [
    "def find_state_fips(bg, state_data):\n",
    "    \n",
    "    st_fips = bg[:2]\n",
    "    for i in range(len(state_data)):\n",
    "        if state_data['st_fips'][i] == st_fips:            \n",
    "            return state_data['st_abb'][i]"
   ]
  },
  {
   "cell_type": "code",
   "execution_count": 9,
   "metadata": {},
   "outputs": [],
   "source": [
    "state_fips = pd.read_csv('../data/us-state-fips.csv',\n",
    "                        dtype = {'stname':str, ' st':str, ' stusps':str})\n",
    "state_fips = state_fips.rename(columns={'stname':'STATE', ' st':'st_fips', ' stusps':'st_abb'})\n",
    "state_fips.st_abb = state_fips.st_abb.str.strip()\n",
    "state_fips.st_fips = state_fips.st_fips.str.strip()"
   ]
  },
  {
   "cell_type": "code",
   "execution_count": 10,
   "metadata": {},
   "outputs": [
    {
     "name": "stderr",
     "output_type": "stream",
     "text": [
      "100%|██████████| 239780/239780 [00:39<00:00, 6112.89it/s]\n",
      "100%|██████████| 239780/239780 [00:03<00:00, 63676.14it/s]\n"
     ]
    }
   ],
   "source": [
    "bg_cont['bg_state'] = bg_cont.progress_apply(lambda x:find_state_fips(x.bg_fips, state_fips), axis=1)\n",
    "bg_cont['bg_county']  = bg_cont.progress_apply(lambda x:x.bg_fips[0:5], axis=1)"
   ]
  },
  {
   "cell_type": "markdown",
   "metadata": {},
   "source": [
    "4. Find each BG's rural status (based on RUCC 2013 Codes)\n",
    "- `county_rurality`: the entire county-level dataset of RUCC 2013 codes from USDA ERS, where BGs in counties tagged with all subcategories within 'Metro' are considered as urban and all within 'Nonmetro' as rural. "
   ]
  },
  {
   "cell_type": "code",
   "execution_count": 11,
   "metadata": {},
   "outputs": [
    {
     "data": {
      "text/html": [
       "<div>\n",
       "<style scoped>\n",
       "    .dataframe tbody tr th:only-of-type {\n",
       "        vertical-align: middle;\n",
       "    }\n",
       "\n",
       "    .dataframe tbody tr th {\n",
       "        vertical-align: top;\n",
       "    }\n",
       "\n",
       "    .dataframe thead th {\n",
       "        text-align: right;\n",
       "    }\n",
       "</style>\n",
       "<table border=\"1\" class=\"dataframe\">\n",
       "  <thead>\n",
       "    <tr style=\"text-align: right;\">\n",
       "      <th></th>\n",
       "      <th>bg_county</th>\n",
       "      <th>State</th>\n",
       "      <th>County_Name</th>\n",
       "      <th>Population_2010</th>\n",
       "      <th>RUCC_2013</th>\n",
       "      <th>Description</th>\n",
       "      <th>status</th>\n",
       "    </tr>\n",
       "  </thead>\n",
       "  <tbody>\n",
       "    <tr>\n",
       "      <th>0</th>\n",
       "      <td>01001</td>\n",
       "      <td>AL</td>\n",
       "      <td>Autauga County</td>\n",
       "      <td>54,571</td>\n",
       "      <td>2.0</td>\n",
       "      <td>Metro - Counties in metro areas of 250,000 to ...</td>\n",
       "      <td>Metro</td>\n",
       "    </tr>\n",
       "    <tr>\n",
       "      <th>1</th>\n",
       "      <td>01003</td>\n",
       "      <td>AL</td>\n",
       "      <td>Baldwin County</td>\n",
       "      <td>182,265</td>\n",
       "      <td>3.0</td>\n",
       "      <td>Metro - Counties in metro areas of fewer than ...</td>\n",
       "      <td>Metro</td>\n",
       "    </tr>\n",
       "    <tr>\n",
       "      <th>2</th>\n",
       "      <td>01005</td>\n",
       "      <td>AL</td>\n",
       "      <td>Barbour County</td>\n",
       "      <td>27,457</td>\n",
       "      <td>6.0</td>\n",
       "      <td>Nonmetro - Urban population of 2,500 to 19,999...</td>\n",
       "      <td>Nonmetro</td>\n",
       "    </tr>\n",
       "    <tr>\n",
       "      <th>3</th>\n",
       "      <td>01007</td>\n",
       "      <td>AL</td>\n",
       "      <td>Bibb County</td>\n",
       "      <td>22,915</td>\n",
       "      <td>1.0</td>\n",
       "      <td>Metro - Counties in metro areas of 1 million p...</td>\n",
       "      <td>Metro</td>\n",
       "    </tr>\n",
       "    <tr>\n",
       "      <th>4</th>\n",
       "      <td>01009</td>\n",
       "      <td>AL</td>\n",
       "      <td>Blount County</td>\n",
       "      <td>57,322</td>\n",
       "      <td>1.0</td>\n",
       "      <td>Metro - Counties in metro areas of 1 million p...</td>\n",
       "      <td>Metro</td>\n",
       "    </tr>\n",
       "    <tr>\n",
       "      <th>...</th>\n",
       "      <td>...</td>\n",
       "      <td>...</td>\n",
       "      <td>...</td>\n",
       "      <td>...</td>\n",
       "      <td>...</td>\n",
       "      <td>...</td>\n",
       "      <td>...</td>\n",
       "    </tr>\n",
       "    <tr>\n",
       "      <th>3229</th>\n",
       "      <td>72151</td>\n",
       "      <td>PR</td>\n",
       "      <td>Yabucoa Municipio</td>\n",
       "      <td>37,941</td>\n",
       "      <td>1.0</td>\n",
       "      <td>Metro - Counties in metro areas of 1 million p...</td>\n",
       "      <td>Metro</td>\n",
       "    </tr>\n",
       "    <tr>\n",
       "      <th>3230</th>\n",
       "      <td>72153</td>\n",
       "      <td>PR</td>\n",
       "      <td>Yauco Municipio</td>\n",
       "      <td>42,043</td>\n",
       "      <td>2.0</td>\n",
       "      <td>Metro - Counties in metro areas of 250,000 to ...</td>\n",
       "      <td>Metro</td>\n",
       "    </tr>\n",
       "    <tr>\n",
       "      <th>3231</th>\n",
       "      <td>78010</td>\n",
       "      <td>VI</td>\n",
       "      <td>St. Croix Island</td>\n",
       "      <td>50,601</td>\n",
       "      <td>5.0</td>\n",
       "      <td>Nonmetro - Urban population of 20,000 or more,...</td>\n",
       "      <td>Nonmetro</td>\n",
       "    </tr>\n",
       "    <tr>\n",
       "      <th>3232</th>\n",
       "      <td>78020</td>\n",
       "      <td>VI</td>\n",
       "      <td>St. John Island</td>\n",
       "      <td>4,170</td>\n",
       "      <td>7.0</td>\n",
       "      <td>Nonmetro - Urban population of 2,500 to 19,999...</td>\n",
       "      <td>Nonmetro</td>\n",
       "    </tr>\n",
       "    <tr>\n",
       "      <th>3233</th>\n",
       "      <td>78030</td>\n",
       "      <td>VI</td>\n",
       "      <td>St. Thomas Island</td>\n",
       "      <td>51,634</td>\n",
       "      <td>5.0</td>\n",
       "      <td>Nonmetro - Urban population of 20,000 or more,...</td>\n",
       "      <td>Nonmetro</td>\n",
       "    </tr>\n",
       "  </tbody>\n",
       "</table>\n",
       "<p>3234 rows × 7 columns</p>\n",
       "</div>"
      ],
      "text/plain": [
       "     bg_county State        County_Name Population_2010 RUCC_2013  \\\n",
       "0        01001    AL     Autauga County          54,571       2.0   \n",
       "1        01003    AL     Baldwin County         182,265       3.0   \n",
       "2        01005    AL     Barbour County          27,457       6.0   \n",
       "3        01007    AL        Bibb County          22,915       1.0   \n",
       "4        01009    AL      Blount County          57,322       1.0   \n",
       "...        ...   ...                ...             ...       ...   \n",
       "3229     72151    PR  Yabucoa Municipio          37,941       1.0   \n",
       "3230     72153    PR    Yauco Municipio          42,043       2.0   \n",
       "3231     78010    VI   St. Croix Island          50,601       5.0   \n",
       "3232     78020    VI    St. John Island           4,170       7.0   \n",
       "3233     78030    VI  St. Thomas Island          51,634       5.0   \n",
       "\n",
       "                                            Description    status  \n",
       "0     Metro - Counties in metro areas of 250,000 to ...     Metro  \n",
       "1     Metro - Counties in metro areas of fewer than ...     Metro  \n",
       "2     Nonmetro - Urban population of 2,500 to 19,999...  Nonmetro  \n",
       "3     Metro - Counties in metro areas of 1 million p...     Metro  \n",
       "4     Metro - Counties in metro areas of 1 million p...     Metro  \n",
       "...                                                 ...       ...  \n",
       "3229  Metro - Counties in metro areas of 1 million p...     Metro  \n",
       "3230  Metro - Counties in metro areas of 250,000 to ...     Metro  \n",
       "3231  Nonmetro - Urban population of 20,000 or more,...  Nonmetro  \n",
       "3232  Nonmetro - Urban population of 2,500 to 19,999...  Nonmetro  \n",
       "3233  Nonmetro - Urban population of 20,000 or more,...  Nonmetro  \n",
       "\n",
       "[3234 rows x 7 columns]"
      ]
     },
     "execution_count": 11,
     "metadata": {},
     "output_type": "execute_result"
    }
   ],
   "source": [
    "county_rurality = pd.read_csv('../data/ruralurbancodes2013.csv', \n",
    "                          dtype = {'FIPS':str})\n",
    "\n",
    "county_rurality['RUCC_2013'] = county_rurality['RUCC_2013'].astype(str)\n",
    "county_rurality.Description = county_rurality.Description.str.strip()\n",
    "\n",
    "def decide_urban_degree(text):\n",
    "    \n",
    "    if text in ['Metro - Counties in metro areas of 250,000 to 1 million population',\n",
    "       'Metro - Counties in metro areas of fewer than 250,000 population', \n",
    "               'Metro - Counties in metro areas of 1 million population or more']:\n",
    "        \n",
    "        return 'Metro'\n",
    "    \n",
    "    elif text in ['Nonmetro - Urban population of 20,000 or more, adjacent to a metro area', \n",
    "                  'Nonmetro - Urban population of 20,000 or more, not adjacent to a metro area']:\n",
    "        return 'Nonmetro'\n",
    "    \n",
    "    elif text in ['Nonmetro - Urban population of 2,500 to 19,999, not adjacent to a metro area',\n",
    "                  'Nonmetro - Urban population of 2,500 to 19,999, adjacent to a metro area']:\n",
    "        return 'Nonmetro'\n",
    "    \n",
    "    elif text in ['Nonmetro - Completely rural or less than 2,500 urban population, not adjacent to a metro area',\n",
    "                  'Nonmetro - Completely rural or less than 2,500 urban population, adjacent to a metro area']:\n",
    "        return 'Nonmetro'\n",
    "    else:\n",
    "        return 'N/A'\n",
    "\n",
    "\n",
    "county_rurality['status'] = county_rurality.apply(lambda x:decide_urban_degree(x.Description), axis=1)\n",
    "county_rurality = county_rurality.rename(columns={'FIPS':'bg_county'})\n",
    "county_rurality "
   ]
  },
  {
   "cell_type": "markdown",
   "metadata": {},
   "source": [
    "5. Merge `bg_cont` with the `county_rurality` information, resulting in a dataset of all block groups' FIPS code, their ADI, state/county, and urban/rural status. "
   ]
  },
  {
   "cell_type": "code",
   "execution_count": 12,
   "metadata": {},
   "outputs": [],
   "source": [
    "bg_cont = bg_cont.merge(county_rurality[['bg_county', 'status']].drop_duplicates(subset=['bg_county']), how='left', on='bg_county')"
   ]
  },
  {
   "cell_type": "code",
   "execution_count": 13,
   "metadata": {},
   "outputs": [
    {
     "data": {
      "text/html": [
       "<div>\n",
       "<style scoped>\n",
       "    .dataframe tbody tr th:only-of-type {\n",
       "        vertical-align: middle;\n",
       "    }\n",
       "\n",
       "    .dataframe tbody tr th {\n",
       "        vertical-align: top;\n",
       "    }\n",
       "\n",
       "    .dataframe thead th {\n",
       "        text-align: right;\n",
       "    }\n",
       "</style>\n",
       "<table border=\"1\" class=\"dataframe\">\n",
       "  <thead>\n",
       "    <tr style=\"text-align: right;\">\n",
       "      <th></th>\n",
       "      <th>bg_fips</th>\n",
       "      <th>ADI_NATRANK</th>\n",
       "      <th>ADI_STATERNK</th>\n",
       "      <th>bg_state</th>\n",
       "      <th>bg_county</th>\n",
       "      <th>status</th>\n",
       "    </tr>\n",
       "  </thead>\n",
       "  <tbody>\n",
       "    <tr>\n",
       "      <th>0</th>\n",
       "      <td>010010201001</td>\n",
       "      <td>73</td>\n",
       "      <td>5</td>\n",
       "      <td>AL</td>\n",
       "      <td>01001</td>\n",
       "      <td>Metro</td>\n",
       "    </tr>\n",
       "    <tr>\n",
       "      <th>1</th>\n",
       "      <td>010010201002</td>\n",
       "      <td>62</td>\n",
       "      <td>3</td>\n",
       "      <td>AL</td>\n",
       "      <td>01001</td>\n",
       "      <td>Metro</td>\n",
       "    </tr>\n",
       "    <tr>\n",
       "      <th>2</th>\n",
       "      <td>010010202001</td>\n",
       "      <td>83</td>\n",
       "      <td>7</td>\n",
       "      <td>AL</td>\n",
       "      <td>01001</td>\n",
       "      <td>Metro</td>\n",
       "    </tr>\n",
       "    <tr>\n",
       "      <th>3</th>\n",
       "      <td>010010202002</td>\n",
       "      <td>87</td>\n",
       "      <td>7</td>\n",
       "      <td>AL</td>\n",
       "      <td>01001</td>\n",
       "      <td>Metro</td>\n",
       "    </tr>\n",
       "    <tr>\n",
       "      <th>4</th>\n",
       "      <td>010010203001</td>\n",
       "      <td>73</td>\n",
       "      <td>5</td>\n",
       "      <td>AL</td>\n",
       "      <td>01001</td>\n",
       "      <td>Metro</td>\n",
       "    </tr>\n",
       "    <tr>\n",
       "      <th>...</th>\n",
       "      <td>...</td>\n",
       "      <td>...</td>\n",
       "      <td>...</td>\n",
       "      <td>...</td>\n",
       "      <td>...</td>\n",
       "      <td>...</td>\n",
       "    </tr>\n",
       "    <tr>\n",
       "      <th>239775</th>\n",
       "      <td>560459511001</td>\n",
       "      <td>65</td>\n",
       "      <td>8</td>\n",
       "      <td>WY</td>\n",
       "      <td>56045</td>\n",
       "      <td>Nonmetro</td>\n",
       "    </tr>\n",
       "    <tr>\n",
       "      <th>239776</th>\n",
       "      <td>560459511002</td>\n",
       "      <td>49</td>\n",
       "      <td>6</td>\n",
       "      <td>WY</td>\n",
       "      <td>56045</td>\n",
       "      <td>Nonmetro</td>\n",
       "    </tr>\n",
       "    <tr>\n",
       "      <th>239777</th>\n",
       "      <td>560459513001</td>\n",
       "      <td>85</td>\n",
       "      <td>10</td>\n",
       "      <td>WY</td>\n",
       "      <td>56045</td>\n",
       "      <td>Nonmetro</td>\n",
       "    </tr>\n",
       "    <tr>\n",
       "      <th>239778</th>\n",
       "      <td>560459513002</td>\n",
       "      <td>70</td>\n",
       "      <td>9</td>\n",
       "      <td>WY</td>\n",
       "      <td>56045</td>\n",
       "      <td>Nonmetro</td>\n",
       "    </tr>\n",
       "    <tr>\n",
       "      <th>239779</th>\n",
       "      <td>560459513003</td>\n",
       "      <td>49</td>\n",
       "      <td>6</td>\n",
       "      <td>WY</td>\n",
       "      <td>56045</td>\n",
       "      <td>Nonmetro</td>\n",
       "    </tr>\n",
       "  </tbody>\n",
       "</table>\n",
       "<p>239780 rows × 6 columns</p>\n",
       "</div>"
      ],
      "text/plain": [
       "             bg_fips ADI_NATRANK ADI_STATERNK bg_state bg_county    status\n",
       "0       010010201001          73            5       AL     01001     Metro\n",
       "1       010010201002          62            3       AL     01001     Metro\n",
       "2       010010202001          83            7       AL     01001     Metro\n",
       "3       010010202002          87            7       AL     01001     Metro\n",
       "4       010010203001          73            5       AL     01001     Metro\n",
       "...              ...         ...          ...      ...       ...       ...\n",
       "239775  560459511001          65            8       WY     56045  Nonmetro\n",
       "239776  560459511002          49            6       WY     56045  Nonmetro\n",
       "239777  560459513001          85           10       WY     56045  Nonmetro\n",
       "239778  560459513002          70            9       WY     56045  Nonmetro\n",
       "239779  560459513003          49            6       WY     56045  Nonmetro\n",
       "\n",
       "[239780 rows x 6 columns]"
      ]
     },
     "execution_count": 13,
     "metadata": {},
     "output_type": "execute_result"
    }
   ],
   "source": [
    "bg_cont"
   ]
  },
  {
   "cell_type": "markdown",
   "metadata": {},
   "source": [
    "6. (Optional) Split all 239,780 BGs in the continental U.S. into two distinct groups: \n",
    "\n",
    "(1) `bg_yes_pantry` (232,735 BGs that do have at least one food pantry (FP) ≤ 25 miles), \n",
    "\n",
    "(2) `bg_no_pantry` (7,045 BGs that do not have any FPs ≤ 25 miles). Note that only 1,145 BGs out of 7,045 BGs that do not have FPs ≤ 25 miles show valid (e.g., non-missing and numeric) national ADI percentile values. "
   ]
  },
  {
   "cell_type": "code",
   "execution_count": 14,
   "metadata": {},
   "outputs": [],
   "source": [
    "bg_with_fp = food.bg_fips.unique() # All BGs in our dataset that are identified as having at least a FP < 25 miles "
   ]
  },
  {
   "cell_type": "code",
   "execution_count": 15,
   "metadata": {},
   "outputs": [],
   "source": [
    "bg_yes_pantry = bg_cont.loc[(bg_cont.bg_fips.isin(bg_with_fp))\n",
    "            & (bg_cont['ADI_NATRANK'].isna()==False)\n",
    "            & (bg_cont['ADI_NATRANK'].str.isnumeric())].reset_index(drop=True)\n",
    "\n",
    "bg_yes_pantry['ADI_NATRANK'] = bg_yes_pantry['ADI_NATRANK'].astype(int)"
   ]
  },
  {
   "cell_type": "code",
   "execution_count": 16,
   "metadata": {},
   "outputs": [],
   "source": [
    "bg_no_pantry = bg_cont.loc[(~bg_cont.bg_fips.isin(bg_with_fp))\n",
    "            & (bg_cont['ADI_NATRANK'].isna()==False)\n",
    "            & (bg_cont['ADI_NATRANK'].str.isnumeric())].reset_index(drop=True)\n",
    "\n",
    "bg_no_pantry['ADI_NATRANK'] = bg_no_pantry['ADI_NATRANK'].astype(int)"
   ]
  },
  {
   "cell_type": "markdown",
   "metadata": {},
   "source": [
    "Now, it's time to pre-process the accessibility dataset. "
   ]
  },
  {
   "cell_type": "markdown",
   "metadata": {},
   "source": [
    "7. Pre-process the accessibility dataset"
   ]
  },
  {
   "cell_type": "markdown",
   "metadata": {},
   "source": [
    "`bg_access`: the dataset that we created from `compute_travel_time.ipynb` file, which consists of all information about each BG and its nearest FP, along with distance/travel time between them, ADI and state info. "
   ]
  },
  {
   "cell_type": "code",
   "execution_count": 17,
   "metadata": {},
   "outputs": [],
   "source": [
    "bg_access = pd.read_csv('../data/bg_transit_adi.csv', dtype={'bg_fips':str})"
   ]
  },
  {
   "cell_type": "code",
   "execution_count": 18,
   "metadata": {},
   "outputs": [],
   "source": [
    "bg_access = bg_access[['bg_fips', 'address', 'distance_mi', 'ADI_NATRANK', 'ADI_STATERNK', \n",
    "                        'bg_state', 'address_state' ,'transit_time', 'walking_time']]"
   ]
  },
  {
   "cell_type": "code",
   "execution_count": 19,
   "metadata": {},
   "outputs": [
    {
     "data": {
      "text/html": [
       "<div>\n",
       "<style scoped>\n",
       "    .dataframe tbody tr th:only-of-type {\n",
       "        vertical-align: middle;\n",
       "    }\n",
       "\n",
       "    .dataframe tbody tr th {\n",
       "        vertical-align: top;\n",
       "    }\n",
       "\n",
       "    .dataframe thead th {\n",
       "        text-align: right;\n",
       "    }\n",
       "</style>\n",
       "<table border=\"1\" class=\"dataframe\">\n",
       "  <thead>\n",
       "    <tr style=\"text-align: right;\">\n",
       "      <th></th>\n",
       "      <th>bg_fips</th>\n",
       "      <th>address</th>\n",
       "      <th>distance_mi</th>\n",
       "      <th>ADI_NATRANK</th>\n",
       "      <th>ADI_STATERNK</th>\n",
       "      <th>bg_state</th>\n",
       "      <th>address_state</th>\n",
       "      <th>transit_time</th>\n",
       "      <th>walking_time</th>\n",
       "    </tr>\n",
       "  </thead>\n",
       "  <tbody>\n",
       "    <tr>\n",
       "      <th>0</th>\n",
       "      <td>010010201001</td>\n",
       "      <td>203 N Court St, Prattville, AL 36067</td>\n",
       "      <td>0.835864</td>\n",
       "      <td>73</td>\n",
       "      <td>5</td>\n",
       "      <td>AL</td>\n",
       "      <td>AL</td>\n",
       "      <td>20.08</td>\n",
       "      <td>20.08</td>\n",
       "    </tr>\n",
       "    <tr>\n",
       "      <th>1</th>\n",
       "      <td>010010201002</td>\n",
       "      <td>203 N Court St, Prattville, AL 36067</td>\n",
       "      <td>1.684913</td>\n",
       "      <td>62</td>\n",
       "      <td>3</td>\n",
       "      <td>AL</td>\n",
       "      <td>AL</td>\n",
       "      <td>37.30</td>\n",
       "      <td>37.30</td>\n",
       "    </tr>\n",
       "    <tr>\n",
       "      <th>2</th>\n",
       "      <td>010010202001</td>\n",
       "      <td>203 N Court St, Prattville, AL 36067</td>\n",
       "      <td>1.065305</td>\n",
       "      <td>83</td>\n",
       "      <td>7</td>\n",
       "      <td>AL</td>\n",
       "      <td>AL</td>\n",
       "      <td>20.33</td>\n",
       "      <td>20.33</td>\n",
       "    </tr>\n",
       "    <tr>\n",
       "      <th>3</th>\n",
       "      <td>010010202002</td>\n",
       "      <td>203 N Court St, Prattville, AL 36067</td>\n",
       "      <td>0.327409</td>\n",
       "      <td>87</td>\n",
       "      <td>7</td>\n",
       "      <td>AL</td>\n",
       "      <td>AL</td>\n",
       "      <td>8.40</td>\n",
       "      <td>8.40</td>\n",
       "    </tr>\n",
       "    <tr>\n",
       "      <th>4</th>\n",
       "      <td>010010203001</td>\n",
       "      <td>203 N Court St, Prattville, AL 36067</td>\n",
       "      <td>1.367486</td>\n",
       "      <td>73</td>\n",
       "      <td>5</td>\n",
       "      <td>AL</td>\n",
       "      <td>AL</td>\n",
       "      <td>42.63</td>\n",
       "      <td>42.63</td>\n",
       "    </tr>\n",
       "  </tbody>\n",
       "</table>\n",
       "</div>"
      ],
      "text/plain": [
       "        bg_fips                               address  distance_mi  \\\n",
       "0  010010201001  203 N Court St, Prattville, AL 36067     0.835864   \n",
       "1  010010201002  203 N Court St, Prattville, AL 36067     1.684913   \n",
       "2  010010202001  203 N Court St, Prattville, AL 36067     1.065305   \n",
       "3  010010202002  203 N Court St, Prattville, AL 36067     0.327409   \n",
       "4  010010203001  203 N Court St, Prattville, AL 36067     1.367486   \n",
       "\n",
       "   ADI_NATRANK  ADI_STATERNK bg_state address_state  transit_time  \\\n",
       "0           73             5       AL            AL         20.08   \n",
       "1           62             3       AL            AL         37.30   \n",
       "2           83             7       AL            AL         20.33   \n",
       "3           87             7       AL            AL          8.40   \n",
       "4           73             5       AL            AL         42.63   \n",
       "\n",
       "   walking_time  \n",
       "0         20.08  \n",
       "1         37.30  \n",
       "2         20.33  \n",
       "3          8.40  \n",
       "4         42.63  "
      ]
     },
     "execution_count": 19,
     "metadata": {},
     "output_type": "execute_result"
    }
   ],
   "source": [
    "bg_access.head()"
   ]
  },
  {
   "cell_type": "markdown",
   "metadata": {},
   "source": [
    "8. Merge with `bg_county` and `status` (rural or urban) information for each BG"
   ]
  },
  {
   "cell_type": "code",
   "execution_count": 20,
   "metadata": {},
   "outputs": [
    {
     "name": "stderr",
     "output_type": "stream",
     "text": [
      "100%|██████████| 232735/232735 [00:03<00:00, 65147.48it/s]\n"
     ]
    }
   ],
   "source": [
    "bg_access['bg_county'] = bg_access.progress_apply(lambda x:x.bg_fips[:5], axis=1)"
   ]
  },
  {
   "cell_type": "code",
   "execution_count": 21,
   "metadata": {},
   "outputs": [],
   "source": [
    "bg_access = bg_access.merge(county_rurality[['bg_county', 'status']].drop_duplicates(subset=['bg_county']), how='left', on='bg_county')"
   ]
  },
  {
   "cell_type": "markdown",
   "metadata": {},
   "source": [
    "Because `bg_access` contains only 232,735 BGs that do have FPs ≤ 25 miles so that we can compute travel time, we also include the other BGs in `bg_no_pantry` that do not have FPs ≤ 25 miles to update `bg_access`."
   ]
  },
  {
   "cell_type": "code",
   "execution_count": 22,
   "metadata": {},
   "outputs": [],
   "source": [
    "bg_access = pd.concat([bg_access, bg_cont.loc[(~bg_cont.bg_fips.isin(bg_with_fp))]])"
   ]
  },
  {
   "cell_type": "code",
   "execution_count": 23,
   "metadata": {},
   "outputs": [
    {
     "data": {
      "text/html": [
       "<div>\n",
       "<style scoped>\n",
       "    .dataframe tbody tr th:only-of-type {\n",
       "        vertical-align: middle;\n",
       "    }\n",
       "\n",
       "    .dataframe tbody tr th {\n",
       "        vertical-align: top;\n",
       "    }\n",
       "\n",
       "    .dataframe thead th {\n",
       "        text-align: right;\n",
       "    }\n",
       "</style>\n",
       "<table border=\"1\" class=\"dataframe\">\n",
       "  <thead>\n",
       "    <tr style=\"text-align: right;\">\n",
       "      <th></th>\n",
       "      <th>bg_fips</th>\n",
       "      <th>address</th>\n",
       "      <th>distance_mi</th>\n",
       "      <th>ADI_NATRANK</th>\n",
       "      <th>ADI_STATERNK</th>\n",
       "      <th>bg_state</th>\n",
       "      <th>address_state</th>\n",
       "      <th>transit_time</th>\n",
       "      <th>walking_time</th>\n",
       "      <th>bg_county</th>\n",
       "      <th>status</th>\n",
       "    </tr>\n",
       "  </thead>\n",
       "  <tbody>\n",
       "    <tr>\n",
       "      <th>0</th>\n",
       "      <td>010010201001</td>\n",
       "      <td>203 N Court St, Prattville, AL 36067</td>\n",
       "      <td>0.835864</td>\n",
       "      <td>73</td>\n",
       "      <td>5</td>\n",
       "      <td>AL</td>\n",
       "      <td>AL</td>\n",
       "      <td>20.08</td>\n",
       "      <td>20.08</td>\n",
       "      <td>01001</td>\n",
       "      <td>Metro</td>\n",
       "    </tr>\n",
       "    <tr>\n",
       "      <th>1</th>\n",
       "      <td>010010201002</td>\n",
       "      <td>203 N Court St, Prattville, AL 36067</td>\n",
       "      <td>1.684913</td>\n",
       "      <td>62</td>\n",
       "      <td>3</td>\n",
       "      <td>AL</td>\n",
       "      <td>AL</td>\n",
       "      <td>37.30</td>\n",
       "      <td>37.30</td>\n",
       "      <td>01001</td>\n",
       "      <td>Metro</td>\n",
       "    </tr>\n",
       "    <tr>\n",
       "      <th>2</th>\n",
       "      <td>010010202001</td>\n",
       "      <td>203 N Court St, Prattville, AL 36067</td>\n",
       "      <td>1.065305</td>\n",
       "      <td>83</td>\n",
       "      <td>7</td>\n",
       "      <td>AL</td>\n",
       "      <td>AL</td>\n",
       "      <td>20.33</td>\n",
       "      <td>20.33</td>\n",
       "      <td>01001</td>\n",
       "      <td>Metro</td>\n",
       "    </tr>\n",
       "    <tr>\n",
       "      <th>3</th>\n",
       "      <td>010010202002</td>\n",
       "      <td>203 N Court St, Prattville, AL 36067</td>\n",
       "      <td>0.327409</td>\n",
       "      <td>87</td>\n",
       "      <td>7</td>\n",
       "      <td>AL</td>\n",
       "      <td>AL</td>\n",
       "      <td>8.40</td>\n",
       "      <td>8.40</td>\n",
       "      <td>01001</td>\n",
       "      <td>Metro</td>\n",
       "    </tr>\n",
       "    <tr>\n",
       "      <th>4</th>\n",
       "      <td>010010203001</td>\n",
       "      <td>203 N Court St, Prattville, AL 36067</td>\n",
       "      <td>1.367486</td>\n",
       "      <td>73</td>\n",
       "      <td>5</td>\n",
       "      <td>AL</td>\n",
       "      <td>AL</td>\n",
       "      <td>42.63</td>\n",
       "      <td>42.63</td>\n",
       "      <td>01001</td>\n",
       "      <td>Metro</td>\n",
       "    </tr>\n",
       "    <tr>\n",
       "      <th>...</th>\n",
       "      <td>...</td>\n",
       "      <td>...</td>\n",
       "      <td>...</td>\n",
       "      <td>...</td>\n",
       "      <td>...</td>\n",
       "      <td>...</td>\n",
       "      <td>...</td>\n",
       "      <td>...</td>\n",
       "      <td>...</td>\n",
       "      <td>...</td>\n",
       "      <td>...</td>\n",
       "    </tr>\n",
       "    <tr>\n",
       "      <th>239768</th>\n",
       "      <td>560430002003</td>\n",
       "      <td>NaN</td>\n",
       "      <td>NaN</td>\n",
       "      <td>47</td>\n",
       "      <td>5</td>\n",
       "      <td>WY</td>\n",
       "      <td>NaN</td>\n",
       "      <td>NaN</td>\n",
       "      <td>NaN</td>\n",
       "      <td>56043</td>\n",
       "      <td>Nonmetro</td>\n",
       "    </tr>\n",
       "    <tr>\n",
       "      <th>239776</th>\n",
       "      <td>560459511002</td>\n",
       "      <td>NaN</td>\n",
       "      <td>NaN</td>\n",
       "      <td>49</td>\n",
       "      <td>6</td>\n",
       "      <td>WY</td>\n",
       "      <td>NaN</td>\n",
       "      <td>NaN</td>\n",
       "      <td>NaN</td>\n",
       "      <td>56045</td>\n",
       "      <td>Nonmetro</td>\n",
       "    </tr>\n",
       "    <tr>\n",
       "      <th>239777</th>\n",
       "      <td>560459513001</td>\n",
       "      <td>NaN</td>\n",
       "      <td>NaN</td>\n",
       "      <td>85</td>\n",
       "      <td>10</td>\n",
       "      <td>WY</td>\n",
       "      <td>NaN</td>\n",
       "      <td>NaN</td>\n",
       "      <td>NaN</td>\n",
       "      <td>56045</td>\n",
       "      <td>Nonmetro</td>\n",
       "    </tr>\n",
       "    <tr>\n",
       "      <th>239778</th>\n",
       "      <td>560459513002</td>\n",
       "      <td>NaN</td>\n",
       "      <td>NaN</td>\n",
       "      <td>70</td>\n",
       "      <td>9</td>\n",
       "      <td>WY</td>\n",
       "      <td>NaN</td>\n",
       "      <td>NaN</td>\n",
       "      <td>NaN</td>\n",
       "      <td>56045</td>\n",
       "      <td>Nonmetro</td>\n",
       "    </tr>\n",
       "    <tr>\n",
       "      <th>239779</th>\n",
       "      <td>560459513003</td>\n",
       "      <td>NaN</td>\n",
       "      <td>NaN</td>\n",
       "      <td>49</td>\n",
       "      <td>6</td>\n",
       "      <td>WY</td>\n",
       "      <td>NaN</td>\n",
       "      <td>NaN</td>\n",
       "      <td>NaN</td>\n",
       "      <td>56045</td>\n",
       "      <td>Nonmetro</td>\n",
       "    </tr>\n",
       "  </tbody>\n",
       "</table>\n",
       "<p>239780 rows × 11 columns</p>\n",
       "</div>"
      ],
      "text/plain": [
       "             bg_fips                               address  distance_mi  \\\n",
       "0       010010201001  203 N Court St, Prattville, AL 36067     0.835864   \n",
       "1       010010201002  203 N Court St, Prattville, AL 36067     1.684913   \n",
       "2       010010202001  203 N Court St, Prattville, AL 36067     1.065305   \n",
       "3       010010202002  203 N Court St, Prattville, AL 36067     0.327409   \n",
       "4       010010203001  203 N Court St, Prattville, AL 36067     1.367486   \n",
       "...              ...                                   ...          ...   \n",
       "239768  560430002003                                   NaN          NaN   \n",
       "239776  560459511002                                   NaN          NaN   \n",
       "239777  560459513001                                   NaN          NaN   \n",
       "239778  560459513002                                   NaN          NaN   \n",
       "239779  560459513003                                   NaN          NaN   \n",
       "\n",
       "       ADI_NATRANK ADI_STATERNK bg_state address_state  transit_time  \\\n",
       "0               73            5       AL            AL         20.08   \n",
       "1               62            3       AL            AL         37.30   \n",
       "2               83            7       AL            AL         20.33   \n",
       "3               87            7       AL            AL          8.40   \n",
       "4               73            5       AL            AL         42.63   \n",
       "...            ...          ...      ...           ...           ...   \n",
       "239768          47            5       WY           NaN           NaN   \n",
       "239776          49            6       WY           NaN           NaN   \n",
       "239777          85           10       WY           NaN           NaN   \n",
       "239778          70            9       WY           NaN           NaN   \n",
       "239779          49            6       WY           NaN           NaN   \n",
       "\n",
       "        walking_time bg_county    status  \n",
       "0              20.08     01001     Metro  \n",
       "1              37.30     01001     Metro  \n",
       "2              20.33     01001     Metro  \n",
       "3               8.40     01001     Metro  \n",
       "4              42.63     01001     Metro  \n",
       "...              ...       ...       ...  \n",
       "239768           NaN     56043  Nonmetro  \n",
       "239776           NaN     56045  Nonmetro  \n",
       "239777           NaN     56045  Nonmetro  \n",
       "239778           NaN     56045  Nonmetro  \n",
       "239779           NaN     56045  Nonmetro  \n",
       "\n",
       "[239780 rows x 11 columns]"
      ]
     },
     "execution_count": 23,
     "metadata": {},
     "output_type": "execute_result"
    }
   ],
   "source": [
    "bg_access"
   ]
  },
  {
   "cell_type": "markdown",
   "metadata": {},
   "source": [
    "Based on our definition of accessibility, we compute shorter travel time to measure accessibility, by the least travel time by transit or walking. This is stored in the `access` column. "
   ]
  },
  {
   "cell_type": "code",
   "execution_count": 24,
   "metadata": {},
   "outputs": [],
   "source": [
    "def shorter_travel(transit, walk):\n",
    "    travel = 0\n",
    "    if np.isnan(transit) == False:\n",
    "        if np.isnan(walk) == False:\n",
    "            if transit >= walk: # transit 0 walk 0\n",
    "                travel = walk\n",
    "            else:\n",
    "                travel = transit\n",
    "        else: # transit 0 walk x\n",
    "            travel = transit\n",
    "    else: #transit x\n",
    "        if np.isnan(walk) == False: # transit x walk 0\n",
    "            travel = walk\n",
    "        else:\n",
    "            travel = None # transit x walk x\n",
    "\n",
    "    return travel"
   ]
  },
  {
   "cell_type": "code",
   "execution_count": 25,
   "metadata": {},
   "outputs": [
    {
     "name": "stderr",
     "output_type": "stream",
     "text": [
      "100%|██████████| 239780/239780 [00:08<00:00, 28971.67it/s]\n"
     ]
    }
   ],
   "source": [
    "bg_access['access'] = bg_access.progress_apply(lambda x:shorter_travel(x.transit_time, x.walking_time), axis=1)"
   ]
  },
  {
   "cell_type": "code",
   "execution_count": 26,
   "metadata": {},
   "outputs": [
    {
     "name": "stderr",
     "output_type": "stream",
     "text": [
      "100%|██████████| 239780/239780 [00:04<00:00, 57131.04it/s]\n"
     ]
    }
   ],
   "source": [
    "def isnumber(x): # convert all ADI to its numeric format\n",
    "    try:\n",
    "        d = int(x)\n",
    "        return d\n",
    "    except:\n",
    "        return None\n",
    "\n",
    "\n",
    "bg_access['ADI_NATRANK'] = bg_access.progress_apply(lambda x:isnumber(x.ADI_NATRANK), axis=1)"
   ]
  },
  {
   "cell_type": "markdown",
   "metadata": {},
   "source": [
    "Then, we have all 239,780 BGs in the continental U.S., along with their accessibility information!"
   ]
  },
  {
   "cell_type": "markdown",
   "metadata": {},
   "source": [
    "-------------------------------------------------------------------------------------------"
   ]
  },
  {
   "cell_type": "markdown",
   "metadata": {},
   "source": [
    "# Table 1"
   ]
  },
  {
   "cell_type": "markdown",
   "metadata": {},
   "source": [
    "## (1) Characteristics of Total 239,780 BGs"
   ]
  },
  {
   "cell_type": "code",
   "execution_count": 27,
   "metadata": {},
   "outputs": [
    {
     "name": "stdout",
     "output_type": "stream",
     "text": [
      "1. Total number of BGs:  239780\n",
      "----------------------------\n",
      "2. Number of FPs by rural status\n",
      "Metro       198767\n",
      "Nonmetro     40995\n",
      "Name: status, dtype: int64\n",
      "Metro       0.829018\n",
      "Nonmetro    0.170982\n",
      "Name: status, dtype: float64\n",
      "----------------------------\n",
      "3. Mean of national ADI percentiles\n",
      "Mean:  50.11550877132974\n",
      "SD:  28.741238580189798\n",
      "95% CI:  (49.9990287456967, 50.23198879696279)\n",
      "----------------------------\n",
      "4. Mean of Travel time (accessibility)\n",
      "Mean:  78.56219881752156\n",
      "SD:  338.00597525649135\n",
      "95% CI:  (77.18779543676037, 79.93660219828412)\n"
     ]
    }
   ],
   "source": [
    "print('1. Total number of BGs: ', len(bg_access))\n",
    "print('----------------------------')\n",
    "\n",
    "print('2. Number of FPs by rural status')\n",
    "print(bg_access.status.value_counts(normalize=False))\n",
    "print(bg_access.status.value_counts(normalize=True))\n",
    "print('----------------------------')\n",
    "\n",
    "print('3. Mean of national ADI percentiles')\n",
    "print('Mean: ', np.mean(bg_access.ADI_NATRANK))\n",
    "print('SD: ', np.std(bg_access.ADI_NATRANK))\n",
    "\n",
    "print('95% CI: ', st.norm.interval(alpha=0.95, \n",
    "                                   loc=np.nanmean((bg_access.ADI_NATRANK)), \n",
    "                                   scale=st.sem((bg_access.ADI_NATRANK), nan_policy='omit')))\n",
    "\n",
    "print('----------------------------')\n",
    "\n",
    "print('4. Mean of Travel time (accessibility)')\n",
    "print('Mean: ', np.mean(bg_access.access))\n",
    "print('SD: ', np.std(bg_access.access))\n",
    "\n",
    "print('95% CI: ', st.norm.interval(alpha=0.95, \n",
    "                                   loc=np.nanmean((bg_access.access)), \n",
    "                                   scale=st.sem(bg_access.access, nan_policy = 'omit')))"
   ]
  },
  {
   "cell_type": "markdown",
   "metadata": {},
   "source": [
    "## (2) Level of Accessibility"
   ]
  },
  {
   "cell_type": "markdown",
   "metadata": {},
   "source": [
    "Here's the definitions of \"Easy, Difficult, or No accessibility\" between a BG and its nearest food pantry by either public transit or walking. \n",
    "\n",
    "<div align=\"center\">\n",
    "\n",
    "| Transit \t| Walking \t| **Easy/Diff/No?** \t|\n",
    "|---------\t|---------\t|-------------------\t|\n",
    "| N     \t| N       \t| No                \t|\n",
    "| N       \t| <= 20   \t| Easy              \t|\n",
    "| N       \t| > 20    \t| Difficult         \t|\n",
    "| <= 40   \t| N       \t| Easy              \t|\n",
    "| > 40    \t| N       \t| Difficult         \t|\n",
    "| <= 40   \t| <= 20   \t| Easy              \t|\n",
    "| <= 40   \t| > 20    \t| Easy              \t|\n",
    "| > 40    \t| <= 20   \t| Easy              \t|\n",
    "| > 40    \t| > 20    \t| Difficult         \t|\n",
    "</div>"
   ]
  },
  {
   "cell_type": "code",
   "execution_count": 28,
   "metadata": {},
   "outputs": [
    {
     "name": "stderr",
     "output_type": "stream",
     "text": [
      "100%|██████████| 125835/125835 [00:04<00:00, 28238.18it/s]\n"
     ]
    }
   ],
   "source": [
    "easy_access = pd.concat([bg_access.loc[(bg_access.transit_time.isna()) & (bg_access.walking_time <= 20)], \n",
    "                        bg_access.loc[(bg_access.transit_time <= 40) & (bg_access.walking_time.isna())], \n",
    "                        bg_access.loc[(bg_access.transit_time <= 40) & (bg_access.walking_time <= 20)], \n",
    "                        bg_access.loc[(bg_access.transit_time <= 40) & (bg_access.walking_time > 20)], \n",
    "                        bg_access.loc[(bg_access.transit_time > 40) & (bg_access.walking_time <= 20)]], ignore_index=True)\n",
    "\n",
    "easy_access['access'] = easy_access.progress_apply(lambda x:shorter_travel(x.transit_time, x.walking_time), axis=1)"
   ]
  },
  {
   "cell_type": "markdown",
   "metadata": {},
   "source": [
    "### `easy_access` in Table 1"
   ]
  },
  {
   "cell_type": "code",
   "execution_count": 29,
   "metadata": {},
   "outputs": [
    {
     "name": "stdout",
     "output_type": "stream",
     "text": [
      "1. total # BGs in easy access:  125835\n",
      "total % BGs in easy access:  0.5247935607640337\n",
      "--------------------------------------------\n",
      "2. Number of BGs by rurality status\n",
      "Metro       115796\n",
      "Nonmetro     10039\n",
      "Name: status, dtype: int64\n",
      "Metro       0.920221\n",
      "Nonmetro    0.079779\n",
      "Name: status, dtype: float64\n",
      "--------------------------------------------\n",
      "3. Statistics of national ADI percentiles\n",
      "Mean:  49.77993404060874\n",
      "SD:  30.146372620973075\n",
      "95% CI:  (49.61336888577852, 49.94649919543895)\n",
      "--------------------------------------------\n",
      "4. Statistic of travel time (accessibility)\n",
      "Mean:  19.454401796002657\n",
      "SD:  10.161520878355269\n",
      "95% CI:  (19.39825722034528, 19.510546371660034)\n",
      "--------------------------------------------\n"
     ]
    }
   ],
   "source": [
    "print('1. total # BGs in easy access: ', len(easy_access))\n",
    "print('total % BGs in easy access: ', len(easy_access)/len(bg_access))\n",
    "print('--------------------------------------------')\n",
    "\n",
    "print('2. Number of BGs by rurality status')\n",
    "print(easy_access.status.value_counts(normalize=False))\n",
    "print(easy_access.status.value_counts(normalize=True))\n",
    "print('--------------------------------------------')\n",
    "\n",
    "print('3. Statistics of national ADI percentiles')\n",
    "print('Mean: ', np.mean(easy_access.ADI_NATRANK))\n",
    "print('SD: ', np.std(easy_access.ADI_NATRANK))\n",
    "\n",
    "print('95% CI: ', st.norm.interval(alpha=0.95, \n",
    "                                   loc=np.mean((easy_access.ADI_NATRANK)), \n",
    "                                   scale=st.sem((easy_access.ADI_NATRANK))))\n",
    "print('--------------------------------------------')\n",
    "\n",
    "print('4. Statistic of travel time (accessibility)')\n",
    "print('Mean: ', np.mean(easy_access.access))\n",
    "print('SD: ', np.std(easy_access.access))\n",
    "\n",
    "print('95% CI: ', st.norm.interval(alpha=0.95, \n",
    "                                   loc=np.mean((easy_access.access)), \n",
    "                                   scale=st.sem((easy_access.access))))\n",
    "\n",
    "print('--------------------------------------------')"
   ]
  },
  {
   "cell_type": "code",
   "execution_count": 30,
   "metadata": {},
   "outputs": [
    {
     "name": "stderr",
     "output_type": "stream",
     "text": [
      "100%|██████████| 106502/106502 [00:03<00:00, 30998.04it/s]\n"
     ]
    }
   ],
   "source": [
    "diff_access = pd.concat([bg_access.loc[(bg_access.transit_time.isna()) & (bg_access.walking_time > 20)], \n",
    "                        bg_access.loc[(bg_access.transit_time > 40) & (bg_access.walking_time.isna())], \n",
    "                        bg_access.loc[(bg_access.transit_time > 40) & (bg_access.walking_time > 20)]], ignore_index=True)\n",
    "\n",
    "diff_access['access'] = diff_access.progress_apply(lambda x:shorter_travel(x.transit_time, x.walking_time), axis=1)"
   ]
  },
  {
   "cell_type": "markdown",
   "metadata": {},
   "source": [
    "### `diff_access` in Table 1"
   ]
  },
  {
   "cell_type": "code",
   "execution_count": 31,
   "metadata": {},
   "outputs": [
    {
     "name": "stdout",
     "output_type": "stream",
     "text": [
      "1. total # BGs in diff access:  106502\n",
      "total % BGs in diff access:  0.4441654850279423\n",
      "--------------------------------------------\n",
      "2. Number of BGs by rurality status\n",
      "Metro       77592\n",
      "Nonmetro    28909\n",
      "Name: status, dtype: int64\n",
      "Metro       0.728557\n",
      "Nonmetro    0.271443\n",
      "Name: status, dtype: float64\n",
      "--------------------------------------------\n",
      "3. Statistics of national ADI percentiles\n",
      "Mean:  50.315956507859006\n",
      "SD:  26.952144205094065\n",
      "95% CI:  (50.15408717759038, 50.477825838127636)\n",
      "--------------------------------------------\n",
      "4. Statistic of travel time (accessibility)\n",
      "Mean:  148.39966326140998\n",
      "SD:  490.00814713024533\n",
      "95% CI:  (145.45676973878054, 151.34255678403943)\n",
      "--------------------------------------------\n"
     ]
    }
   ],
   "source": [
    "print('1. total # BGs in diff access: ', len(diff_access))\n",
    "print('total % BGs in diff access: ', len(diff_access)/len(bg_access))\n",
    "print('--------------------------------------------')\n",
    "\n",
    "print('2. Number of BGs by rurality status')\n",
    "print(diff_access.status.value_counts(normalize=False))\n",
    "print(diff_access.status.value_counts(normalize=True))\n",
    "print('--------------------------------------------')\n",
    "\n",
    "print('3. Statistics of national ADI percentiles')\n",
    "print('Mean: ', np.mean(diff_access.ADI_NATRANK))\n",
    "print('SD: ', np.std(diff_access.ADI_NATRANK))\n",
    "\n",
    "print('95% CI: ', st.norm.interval(alpha=0.95, \n",
    "                                   loc=np.mean((diff_access.ADI_NATRANK)), \n",
    "                                   scale=st.sem((diff_access.ADI_NATRANK))))\n",
    "print('--------------------------------------------')\n",
    "\n",
    "print('4. Statistic of travel time (accessibility)')\n",
    "print('Mean: ', np.mean(diff_access.access))\n",
    "print('SD: ', np.std(diff_access.access))\n",
    "\n",
    "print('95% CI: ', st.norm.interval(alpha=0.95, \n",
    "                                   loc=np.mean((diff_access.access)), \n",
    "                                   scale=st.sem((diff_access.access))))\n",
    "\n",
    "print('--------------------------------------------')"
   ]
  },
  {
   "cell_type": "markdown",
   "metadata": {},
   "source": [
    "### `no_access` in Table 1"
   ]
  },
  {
   "cell_type": "markdown",
   "metadata": {},
   "source": [
    "Note that `no_access` has no information about travel time (accessibility) as they do not have FPs ≤ 25 miles or do not have avaialble transit/walking routes to visit FPs ≤ 25 miles."
   ]
  },
  {
   "cell_type": "code",
   "execution_count": 32,
   "metadata": {},
   "outputs": [
    {
     "name": "stderr",
     "output_type": "stream",
     "text": [
      "100%|██████████| 7443/7443 [00:00<00:00, 28523.56it/s]\n"
     ]
    }
   ],
   "source": [
    "no_access = bg_access.loc[(bg_access.transit_time.isna()) & (bg_access.walking_time.isna())]\n",
    "no_access['access'] = no_access.progress_apply(lambda x:shorter_travel(x.transit_time, x.walking_time), axis=1)"
   ]
  },
  {
   "cell_type": "code",
   "execution_count": 33,
   "metadata": {},
   "outputs": [
    {
     "name": "stdout",
     "output_type": "stream",
     "text": [
      "1. total # BGs in no access:  7443\n",
      "total % BGs in no access:  0.03104095420802402\n",
      "--------------------------------------------\n",
      "2. Number of BGs by rurality status\n",
      "Metro       5379\n",
      "Nonmetro    2047\n",
      "Name: status, dtype: int64\n",
      "Metro       0.724347\n",
      "Nonmetro    0.275653\n",
      "Name: status, dtype: float64\n",
      "--------------------------------------------\n",
      "3. Statistics of national ADI percentiles\n",
      "Mean:  63.5858064516129\n",
      "SD:  27.596354220895154\n",
      "95% CI:  (62.21153003769133, 64.96008286553447)\n"
     ]
    }
   ],
   "source": [
    "print('1. total # BGs in no access: ', len(no_access))\n",
    "print('total % BGs in no access: ', len(no_access)/len(bg_access))\n",
    "print('--------------------------------------------')\n",
    "\n",
    "print('2. Number of BGs by rurality status')\n",
    "print(no_access.status.value_counts(normalize=False))\n",
    "print(no_access.status.value_counts(normalize=True))\n",
    "print('--------------------------------------------')\n",
    "\n",
    "print('3. Statistics of national ADI percentiles')\n",
    "print('Mean: ', np.mean(no_access.ADI_NATRANK))\n",
    "print('SD: ', np.std(no_access.ADI_NATRANK))\n",
    "\n",
    "print('95% CI: ', st.norm.interval(alpha=0.95, \n",
    "                                   loc=np.nanmean((no_access.ADI_NATRANK)), \n",
    "                                   scale=st.sem((no_access.ADI_NATRANK), nan_policy='omit')))"
   ]
  },
  {
   "cell_type": "markdown",
   "metadata": {},
   "source": []
  },
  {
   "cell_type": "markdown",
   "metadata": {},
   "source": [
    "# Figure 1"
   ]
  },
  {
   "cell_type": "markdown",
   "metadata": {},
   "source": [
    "## (a) National ADI distribution among three accessibility groups"
   ]
  },
  {
   "cell_type": "code",
   "execution_count": 41,
   "metadata": {},
   "outputs": [
    {
     "data": {
      "text/plain": [
       "(array([0, 1, 2, 3, 4, 5, 6, 7, 8, 9]),\n",
       " [Text(0, 0, '[1-10]'),\n",
       "  Text(1, 0, '[11-20]'),\n",
       "  Text(2, 0, '[21-30]'),\n",
       "  Text(3, 0, '[31-40]'),\n",
       "  Text(4, 0, '[41-50]'),\n",
       "  Text(5, 0, '[51-60]'),\n",
       "  Text(6, 0, '[61-70]'),\n",
       "  Text(7, 0, '[71-80]'),\n",
       "  Text(8, 0, '[81-90]'),\n",
       "  Text(9, 0, '[91-100]')])"
      ]
     },
     "execution_count": 41,
     "metadata": {},
     "output_type": "execute_result"
    },
    {
     "data": {
      "image/png": "[encoded data removed]",
      "text/plain": [
       "<Figure size 1152x288 with 3 Axes>"
      ]
     },
     "metadata": {},
     "output_type": "display_data"
    },
    {
     "data": {
      "image/png": "[encoded data removed]",
      "text/plain": [
       "<Figure size 432x288 with 1 Axes>"
      ]
     },
     "metadata": {},
     "output_type": "display_data"
    }
   ],
   "source": [
    "fig, axes = plt.subplots(1, 3,  figsize=(16, 4))\n",
    "fig.subplots_adjust(hspace = 0.4)\n",
    "\n",
    "e = sns.histplot(ax=axes[0], data=easy_access.ADI_NATRANK, stat='percent', \n",
    "            bins=np.arange(0, 101, 10))\n",
    "\n",
    "d = sns.histplot(ax=axes[1], data=diff_access.ADI_NATRANK, stat='percent', \n",
    "            bins=np.arange(0, 101, 10))\n",
    "\n",
    "n = sns.histplot(ax=axes[2], data=no_access.ADI_NATRANK, stat='percent', \n",
    "            bins=np.arange(0, 101, 10))\n",
    "\n",
    "\n",
    "# Get heights of each bin\n",
    "e_heights = [h.get_height() for h in e.patches]\n",
    "d_heights = [h.get_height() for h in d.patches]\n",
    "n_heights = [h.get_height() for h in n.patches]\n",
    "\n",
    "pd.DataFrame({'Easy access':e_heights, \n",
    "              'Difficult access':d_heights,\n",
    "              'No access': n_heights}, index=['[1-10]', '[11-20]', '[21-30]', '[31-40]', '[41-50]', '[51-60]', '[61-70]', '[71-80]', '[81-90]', '[91-100]']).plot.bar(rot=0)\n",
    "plt.xlabel('National ADI Percentiles')\n",
    "plt.ylabel('Percentage (%)')\n",
    "plt.xticks(rotation=45)\n"
   ]
  },
  {
   "cell_type": "markdown",
   "metadata": {},
   "source": [
    "## (b) Accessibility type at U.S. county level"
   ]
  },
  {
   "cell_type": "markdown",
   "metadata": {},
   "source": [
    "We create a dataset `access_type_county_df`, consisting of each U.S. county's accessibility type. Note that accessibility to FPs in each county was assigned by the dominant category of the three accessibility groups in that county. "
   ]
  },
  {
   "cell_type": "code",
   "execution_count": 43,
   "metadata": {},
   "outputs": [],
   "source": [
    "easy_access['type'] = 'Easy access'\n",
    "diff_access['type'] = 'Difficult access'\n",
    "no_access['type'] = 'No access'\n",
    "\n",
    "typed_bg_access = pd.concat([easy_access, diff_access, no_access]).reset_index(drop=True)"
   ]
  },
  {
   "cell_type": "code",
   "execution_count": 44,
   "metadata": {},
   "outputs": [
    {
     "name": "stderr",
     "output_type": "stream",
     "text": [
      "100%|██████████| 3143/3143 [00:00<00:00, 5904.22it/s] \n"
     ]
    }
   ],
   "source": [
    "county_fips = typed_bg_access.groupby(['bg_county']).type.value_counts(normalize=True).unstack().idxmax(axis=1).to_frame().index.tolist()\n",
    "access_type_county = typed_bg_access.groupby(['bg_county']).type.value_counts(normalize=True).unstack().idxmax(axis=1).to_frame().unstack().tolist()\n",
    "\n",
    "access_type_county_df = pd.DataFrame(list(zip(county_fips, access_type_county)), columns =['county_fips', 'type_of_accessibility'])\n",
    "access_type_county_df['county_state'] = access_type_county_df.progress_apply(lambda x:find_state_fips(x.county_fips, state_fips), axis=1)"
   ]
  },
  {
   "cell_type": "code",
   "execution_count": 45,
   "metadata": {},
   "outputs": [
    {
     "data": {
      "text/html": [
       "<div>\n",
       "<style scoped>\n",
       "    .dataframe tbody tr th:only-of-type {\n",
       "        vertical-align: middle;\n",
       "    }\n",
       "\n",
       "    .dataframe tbody tr th {\n",
       "        vertical-align: top;\n",
       "    }\n",
       "\n",
       "    .dataframe thead th {\n",
       "        text-align: right;\n",
       "    }\n",
       "</style>\n",
       "<table border=\"1\" class=\"dataframe\">\n",
       "  <thead>\n",
       "    <tr style=\"text-align: right;\">\n",
       "      <th></th>\n",
       "      <th>county_fips</th>\n",
       "      <th>type_of_accessibility</th>\n",
       "      <th>county_state</th>\n",
       "    </tr>\n",
       "  </thead>\n",
       "  <tbody>\n",
       "    <tr>\n",
       "      <th>0</th>\n",
       "      <td>01001</td>\n",
       "      <td>Difficult access</td>\n",
       "      <td>AL</td>\n",
       "    </tr>\n",
       "    <tr>\n",
       "      <th>1</th>\n",
       "      <td>01003</td>\n",
       "      <td>Difficult access</td>\n",
       "      <td>AL</td>\n",
       "    </tr>\n",
       "    <tr>\n",
       "      <th>2</th>\n",
       "      <td>01005</td>\n",
       "      <td>Difficult access</td>\n",
       "      <td>AL</td>\n",
       "    </tr>\n",
       "    <tr>\n",
       "      <th>3</th>\n",
       "      <td>01007</td>\n",
       "      <td>Difficult access</td>\n",
       "      <td>AL</td>\n",
       "    </tr>\n",
       "    <tr>\n",
       "      <th>4</th>\n",
       "      <td>01009</td>\n",
       "      <td>Difficult access</td>\n",
       "      <td>AL</td>\n",
       "    </tr>\n",
       "  </tbody>\n",
       "</table>\n",
       "</div>"
      ],
      "text/plain": [
       "  county_fips type_of_accessibility county_state\n",
       "0       01001      Difficult access           AL\n",
       "1       01003      Difficult access           AL\n",
       "2       01005      Difficult access           AL\n",
       "3       01007      Difficult access           AL\n",
       "4       01009      Difficult access           AL"
      ]
     },
     "execution_count": 45,
     "metadata": {},
     "output_type": "execute_result"
    }
   ],
   "source": [
    "access_type_county_df.head()"
   ]
  },
  {
   "cell_type": "markdown",
   "metadata": {},
   "source": [
    "Save `access_type_county_df` to plot in Tableau. "
   ]
  },
  {
   "cell_type": "code",
   "execution_count": 1,
   "metadata": {},
   "outputs": [],
   "source": [
    "#access_type_county_df.to_csv('../data/access_type_county_df.csv', index=False)"
   ]
  },
  {
   "cell_type": "code",
   "execution_count": null,
   "metadata": {},
   "outputs": [],
   "source": []
  }
 ],
 "metadata": {
  "kernelspec": {
   "display_name": "Python 3",
   "language": "python",
   "name": "python3"
  },
  "language_info": {
   "codemirror_mode": {
    "name": "ipython",
    "version": 3
   },
   "file_extension": ".py",
   "mimetype": "text/x-python",
   "name": "python",
   "nbconvert_exporter": "python",
   "pygments_lexer": "ipython3",
   "version": "3.8.12"
  },
  "toc-autonumbering": false,
  "vscode": {
   "interpreter": {
    "hash": "31092ce0c996e8787f4b19c62caf821fc2a61fa3a509ce0d6e7ff4146971ca9f"
   }
  }
 },
 "nbformat": 4,
 "nbformat_minor": 4
}
