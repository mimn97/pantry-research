{
 "cells": [
  {
   "cell_type": "code",
   "execution_count": 1,
   "metadata": {},
   "outputs": [],
   "source": [
    "import pandas as pd\n",
    "import numpy as np\n",
    "import matplotlib.pyplot as plt\n",
    "from tqdm import tqdm\n",
    "import math\n",
    "import seaborn as sns\n",
    "\n",
    "%matplotlib inline\n",
    "tqdm.pandas()"
   ]
  },
  {
   "attachments": {},
   "cell_type": "markdown",
   "metadata": {},
   "source": [
    "# 1. Prepare dataset\n",
    "\n",
    "- `bg20_adi`: Neighborhood Atlas's newly published 2020 ADI"
   ]
  },
  {
   "cell_type": "code",
   "execution_count": 2,
   "metadata": {},
   "outputs": [],
   "source": [
    "bg20_adi = pd.read_csv('../data/US_2020_ADI_Census Block Group_v3.2.csv', \n",
    "                        dtype={'FIPS':str, 'ADI_NATRANK':str, 'ADI_STATERNK':str})\n",
    "bg20_adi = bg20_adi[['FIPS', 'ADI_NATRANK', 'ADI_STATERNK']]\n",
    "bg20_adi = bg20_adi.rename(columns={'FIPS':'bg_fips'})"
   ]
  },
  {
   "cell_type": "code",
   "execution_count": 3,
   "metadata": {},
   "outputs": [
    {
     "data": {
      "text/html": [
       "<div>\n",
       "<style scoped>\n",
       "    .dataframe tbody tr th:only-of-type {\n",
       "        vertical-align: middle;\n",
       "    }\n",
       "\n",
       "    .dataframe tbody tr th {\n",
       "        vertical-align: top;\n",
       "    }\n",
       "\n",
       "    .dataframe thead th {\n",
       "        text-align: right;\n",
       "    }\n",
       "</style>\n",
       "<table border=\"1\" class=\"dataframe\">\n",
       "  <thead>\n",
       "    <tr style=\"text-align: right;\">\n",
       "      <th></th>\n",
       "      <th>bg_fips</th>\n",
       "      <th>ADI_NATRANK</th>\n",
       "      <th>ADI_STATERNK</th>\n",
       "    </tr>\n",
       "  </thead>\n",
       "  <tbody>\n",
       "    <tr>\n",
       "      <th>0</th>\n",
       "      <td>010010201001</td>\n",
       "      <td>73</td>\n",
       "      <td>5</td>\n",
       "    </tr>\n",
       "    <tr>\n",
       "      <th>1</th>\n",
       "      <td>010010201002</td>\n",
       "      <td>62</td>\n",
       "      <td>3</td>\n",
       "    </tr>\n",
       "    <tr>\n",
       "      <th>2</th>\n",
       "      <td>010010202001</td>\n",
       "      <td>83</td>\n",
       "      <td>7</td>\n",
       "    </tr>\n",
       "    <tr>\n",
       "      <th>3</th>\n",
       "      <td>010010202002</td>\n",
       "      <td>87</td>\n",
       "      <td>7</td>\n",
       "    </tr>\n",
       "    <tr>\n",
       "      <th>4</th>\n",
       "      <td>010010203001</td>\n",
       "      <td>73</td>\n",
       "      <td>5</td>\n",
       "    </tr>\n",
       "    <tr>\n",
       "      <th>...</th>\n",
       "      <td>...</td>\n",
       "      <td>...</td>\n",
       "      <td>...</td>\n",
       "    </tr>\n",
       "    <tr>\n",
       "      <th>242330</th>\n",
       "      <td>721537506011</td>\n",
       "      <td>92</td>\n",
       "      <td>6</td>\n",
       "    </tr>\n",
       "    <tr>\n",
       "      <th>242331</th>\n",
       "      <td>721537506012</td>\n",
       "      <td>87</td>\n",
       "      <td>4</td>\n",
       "    </tr>\n",
       "    <tr>\n",
       "      <th>242332</th>\n",
       "      <td>721537506013</td>\n",
       "      <td>93</td>\n",
       "      <td>7</td>\n",
       "    </tr>\n",
       "    <tr>\n",
       "      <th>242333</th>\n",
       "      <td>721537506021</td>\n",
       "      <td>98</td>\n",
       "      <td>10</td>\n",
       "    </tr>\n",
       "    <tr>\n",
       "      <th>242334</th>\n",
       "      <td>721537506022</td>\n",
       "      <td>95</td>\n",
       "      <td>8</td>\n",
       "    </tr>\n",
       "  </tbody>\n",
       "</table>\n",
       "<p>242335 rows × 3 columns</p>\n",
       "</div>"
      ],
      "text/plain": [
       "             bg_fips ADI_NATRANK ADI_STATERNK\n",
       "0       010010201001          73            5\n",
       "1       010010201002          62            3\n",
       "2       010010202001          83            7\n",
       "3       010010202002          87            7\n",
       "4       010010203001          73            5\n",
       "...              ...         ...          ...\n",
       "242330  721537506011          92            6\n",
       "242331  721537506012          87            4\n",
       "242332  721537506013          93            7\n",
       "242333  721537506021          98           10\n",
       "242334  721537506022          95            8\n",
       "\n",
       "[242335 rows x 3 columns]"
      ]
     },
     "execution_count": 3,
     "metadata": {},
     "output_type": "execute_result"
    }
   ],
   "source": [
    "bg20_adi"
   ]
  },
  {
   "attachments": {},
   "cell_type": "markdown",
   "metadata": {},
   "source": [
    "`food_valid`: we need to import this (which includes all original addresses we collected by computing geo-distances between a food pantry point and neighborhoods within 25 miles) -> Then, we need to merge it with the newly published 2020 ADI values for the updated database."
   ]
  },
  {
   "cell_type": "code",
   "execution_count": 4,
   "metadata": {},
   "outputs": [],
   "source": [
    "food_valid = pd.read_pickle('../data/food_valid_filtered_all_combined.pkl')"
   ]
  },
  {
   "cell_type": "code",
   "execution_count": 5,
   "metadata": {},
   "outputs": [
    {
     "name": "stdout",
     "output_type": "stream",
     "text": [
      "<class 'pandas.core.frame.DataFrame'>\n",
      "RangeIndex: 37154567 entries, 0 to 37154566\n",
      "Data columns (total 8 columns):\n",
      " #   Column       Dtype  \n",
      "---  ------       -----  \n",
      " 0   address      object \n",
      " 1   ad_lat       float64\n",
      " 2   ad_lon       float64\n",
      " 3   ad_bg_fips   object \n",
      " 4   bg_fips      object \n",
      " 5   bg_lat       float64\n",
      " 6   bg_lon       float64\n",
      " 7   distance_mi  float64\n",
      "dtypes: float64(5), object(3)\n",
      "memory usage: 2.2+ GB\n"
     ]
    }
   ],
   "source": [
    "food_valid.info()"
   ]
  },
  {
   "attachments": {},
   "cell_type": "markdown",
   "metadata": {},
   "source": [
    "## Merge 2020 ADI with `food_valid`"
   ]
  },
  {
   "cell_type": "code",
   "execution_count": 6,
   "metadata": {},
   "outputs": [
    {
     "name": "stdout",
     "output_type": "stream",
     "text": [
      "34475 238536\n"
     ]
    }
   ],
   "source": [
    "print(len(food_valid['address'].unique()), len(food_valid['bg_fips'].unique()))"
   ]
  },
  {
   "cell_type": "code",
   "execution_count": 7,
   "metadata": {},
   "outputs": [],
   "source": [
    "food_valid_adi = food_valid.merge(bg20_adi.drop_duplicates(subset=['bg_fips']), how='left', on='bg_fips')"
   ]
  },
  {
   "cell_type": "code",
   "execution_count": 8,
   "metadata": {},
   "outputs": [
    {
     "name": "stdout",
     "output_type": "stream",
     "text": [
      "<class 'pandas.core.frame.DataFrame'>\n",
      "Int64Index: 37154567 entries, 0 to 37154566\n",
      "Data columns (total 10 columns):\n",
      " #   Column        Dtype  \n",
      "---  ------        -----  \n",
      " 0   address       object \n",
      " 1   ad_lat        float64\n",
      " 2   ad_lon        float64\n",
      " 3   ad_bg_fips    object \n",
      " 4   bg_fips       object \n",
      " 5   bg_lat        float64\n",
      " 6   bg_lon        float64\n",
      " 7   distance_mi   float64\n",
      " 8   ADI_NATRANK   object \n",
      " 9   ADI_STATERNK  object \n",
      "dtypes: float64(5), object(5)\n",
      "memory usage: 3.0+ GB\n"
     ]
    }
   ],
   "source": [
    "food_valid_adi.info()"
   ]
  },
  {
   "cell_type": "code",
   "execution_count": 9,
   "metadata": {},
   "outputs": [],
   "source": [
    "food_valid_adi_no_nan = food_valid_adi.loc[food_valid_adi['ADI_NATRANK'].isna()==False]\n",
    "food_valid_adi_no_nan_no_invalid = food_valid_adi_no_nan.loc[food_valid_adi_no_nan['ADI_NATRANK'].str.isnumeric()]"
   ]
  },
  {
   "cell_type": "code",
   "execution_count": 10,
   "metadata": {},
   "outputs": [
    {
     "name": "stdout",
     "output_type": "stream",
     "text": [
      "<class 'pandas.core.frame.DataFrame'>\n",
      "Int64Index: 35940827 entries, 0 to 37154566\n",
      "Data columns (total 10 columns):\n",
      " #   Column        Dtype  \n",
      "---  ------        -----  \n",
      " 0   address       object \n",
      " 1   ad_lat        float64\n",
      " 2   ad_lon        float64\n",
      " 3   ad_bg_fips    object \n",
      " 4   bg_fips       object \n",
      " 5   bg_lat        float64\n",
      " 6   bg_lon        float64\n",
      " 7   distance_mi   float64\n",
      " 8   ADI_NATRANK   object \n",
      " 9   ADI_STATERNK  object \n",
      "dtypes: float64(5), object(5)\n",
      "memory usage: 2.9+ GB\n"
     ]
    }
   ],
   "source": [
    "food_valid_adi_no_nan_no_invalid.info()"
   ]
  },
  {
   "cell_type": "code",
   "execution_count": 11,
   "metadata": {},
   "outputs": [
    {
     "name": "stderr",
     "output_type": "stream",
     "text": [
      "<ipython-input-11-df4a23b77efc>:1: SettingWithCopyWarning: \n",
      "A value is trying to be set on a copy of a slice from a DataFrame.\n",
      "Try using .loc[row_indexer,col_indexer] = value instead\n",
      "\n",
      "See the caveats in the documentation: https://pandas.pydata.org/pandas-docs/stable/user_guide/indexing.html#returning-a-view-versus-a-copy\n",
      "  food_valid_adi_no_nan_no_invalid['ADI_NATRANK'] = food_valid_adi_no_nan_no_invalid['ADI_NATRANK'].astype('int')\n",
      "<ipython-input-11-df4a23b77efc>:2: SettingWithCopyWarning: \n",
      "A value is trying to be set on a copy of a slice from a DataFrame.\n",
      "Try using .loc[row_indexer,col_indexer] = value instead\n",
      "\n",
      "See the caveats in the documentation: https://pandas.pydata.org/pandas-docs/stable/user_guide/indexing.html#returning-a-view-versus-a-copy\n",
      "  food_valid_adi_no_nan_no_invalid['ADI_STATERNK'] = food_valid_adi_no_nan_no_invalid['ADI_STATERNK'].astype('int')\n"
     ]
    }
   ],
   "source": [
    "food_valid_adi_no_nan_no_invalid['ADI_NATRANK'] = food_valid_adi_no_nan_no_invalid['ADI_NATRANK'].astype('int')\n",
    "food_valid_adi_no_nan_no_invalid['ADI_STATERNK'] = food_valid_adi_no_nan_no_invalid['ADI_STATERNK'].astype('int')"
   ]
  },
  {
   "cell_type": "code",
   "execution_count": 12,
   "metadata": {},
   "outputs": [
    {
     "data": {
      "text/html": [
       "<div>\n",
       "<style scoped>\n",
       "    .dataframe tbody tr th:only-of-type {\n",
       "        vertical-align: middle;\n",
       "    }\n",
       "\n",
       "    .dataframe tbody tr th {\n",
       "        vertical-align: top;\n",
       "    }\n",
       "\n",
       "    .dataframe thead th {\n",
       "        text-align: right;\n",
       "    }\n",
       "</style>\n",
       "<table border=\"1\" class=\"dataframe\">\n",
       "  <thead>\n",
       "    <tr style=\"text-align: right;\">\n",
       "      <th></th>\n",
       "      <th>address</th>\n",
       "      <th>ad_lat</th>\n",
       "      <th>ad_lon</th>\n",
       "      <th>ad_bg_fips</th>\n",
       "      <th>bg_fips</th>\n",
       "      <th>bg_lat</th>\n",
       "      <th>bg_lon</th>\n",
       "      <th>distance_mi</th>\n",
       "      <th>ADI_NATRANK</th>\n",
       "      <th>ADI_STATERNK</th>\n",
       "    </tr>\n",
       "  </thead>\n",
       "  <tbody>\n",
       "    <tr>\n",
       "      <th>0</th>\n",
       "      <td>80 Richmond Townhouse Rd, Carolina, RI 02812</td>\n",
       "      <td>41.489365</td>\n",
       "      <td>-71.660706</td>\n",
       "      <td>440090506004</td>\n",
       "      <td>090116903001</td>\n",
       "      <td>41.362105</td>\n",
       "      <td>-72.107022</td>\n",
       "      <td>24.720511</td>\n",
       "      <td>47</td>\n",
       "      <td>7</td>\n",
       "    </tr>\n",
       "    <tr>\n",
       "      <th>1</th>\n",
       "      <td>80 Richmond Townhouse Rd, Carolina, RI 02812</td>\n",
       "      <td>41.489365</td>\n",
       "      <td>-71.660706</td>\n",
       "      <td>440090506004</td>\n",
       "      <td>090116904001</td>\n",
       "      <td>41.356744</td>\n",
       "      <td>-72.108543</td>\n",
       "      <td>24.928589</td>\n",
       "      <td>82</td>\n",
       "      <td>10</td>\n",
       "    </tr>\n",
       "    <tr>\n",
       "      <th>2</th>\n",
       "      <td>80 Richmond Townhouse Rd, Carolina, RI 02812</td>\n",
       "      <td>41.489365</td>\n",
       "      <td>-71.660706</td>\n",
       "      <td>440090506004</td>\n",
       "      <td>090116904002</td>\n",
       "      <td>41.351946</td>\n",
       "      <td>-72.106542</td>\n",
       "      <td>24.957116</td>\n",
       "      <td>63</td>\n",
       "      <td>9</td>\n",
       "    </tr>\n",
       "    <tr>\n",
       "      <th>3</th>\n",
       "      <td>80 Richmond Townhouse Rd, Carolina, RI 02812</td>\n",
       "      <td>41.489365</td>\n",
       "      <td>-71.660706</td>\n",
       "      <td>440090506004</td>\n",
       "      <td>090116905003</td>\n",
       "      <td>41.353296</td>\n",
       "      <td>-72.101670</td>\n",
       "      <td>24.688172</td>\n",
       "      <td>68</td>\n",
       "      <td>9</td>\n",
       "    </tr>\n",
       "    <tr>\n",
       "      <th>4</th>\n",
       "      <td>80 Richmond Townhouse Rd, Carolina, RI 02812</td>\n",
       "      <td>41.489365</td>\n",
       "      <td>-71.660706</td>\n",
       "      <td>440090506004</td>\n",
       "      <td>090116905001</td>\n",
       "      <td>41.358894</td>\n",
       "      <td>-72.102416</td>\n",
       "      <td>24.578674</td>\n",
       "      <td>73</td>\n",
       "      <td>10</td>\n",
       "    </tr>\n",
       "    <tr>\n",
       "      <th>...</th>\n",
       "      <td>...</td>\n",
       "      <td>...</td>\n",
       "      <td>...</td>\n",
       "      <td>...</td>\n",
       "      <td>...</td>\n",
       "      <td>...</td>\n",
       "      <td>...</td>\n",
       "      <td>...</td>\n",
       "      <td>...</td>\n",
       "      <td>...</td>\n",
       "    </tr>\n",
       "    <tr>\n",
       "      <th>37154562</th>\n",
       "      <td>1409 Park Ave, Woonsocket, RI 02895</td>\n",
       "      <td>41.984573</td>\n",
       "      <td>-71.515750</td>\n",
       "      <td>440070175003</td>\n",
       "      <td>440070184002</td>\n",
       "      <td>42.014946</td>\n",
       "      <td>-71.466851</td>\n",
       "      <td>3.270068</td>\n",
       "      <td>53</td>\n",
       "      <td>8</td>\n",
       "    </tr>\n",
       "    <tr>\n",
       "      <th>37154563</th>\n",
       "      <td>1409 Park Ave, Woonsocket, RI 02895</td>\n",
       "      <td>41.984573</td>\n",
       "      <td>-71.515750</td>\n",
       "      <td>440070175003</td>\n",
       "      <td>440070184004</td>\n",
       "      <td>42.008856</td>\n",
       "      <td>-71.470713</td>\n",
       "      <td>2.855163</td>\n",
       "      <td>53</td>\n",
       "      <td>8</td>\n",
       "    </tr>\n",
       "    <tr>\n",
       "      <th>37154564</th>\n",
       "      <td>1409 Park Ave, Woonsocket, RI 02895</td>\n",
       "      <td>41.984573</td>\n",
       "      <td>-71.515750</td>\n",
       "      <td>440070175003</td>\n",
       "      <td>440070185001</td>\n",
       "      <td>41.990746</td>\n",
       "      <td>-71.488182</td>\n",
       "      <td>1.477591</td>\n",
       "      <td>50</td>\n",
       "      <td>7</td>\n",
       "    </tr>\n",
       "    <tr>\n",
       "      <th>37154565</th>\n",
       "      <td>1409 Park Ave, Woonsocket, RI 02895</td>\n",
       "      <td>41.984573</td>\n",
       "      <td>-71.515750</td>\n",
       "      <td>440070175003</td>\n",
       "      <td>440070185002</td>\n",
       "      <td>41.998316</td>\n",
       "      <td>-71.481420</td>\n",
       "      <td>2.001014</td>\n",
       "      <td>55</td>\n",
       "      <td>8</td>\n",
       "    </tr>\n",
       "    <tr>\n",
       "      <th>37154566</th>\n",
       "      <td>1409 Park Ave, Woonsocket, RI 02895</td>\n",
       "      <td>41.984573</td>\n",
       "      <td>-71.515750</td>\n",
       "      <td>440070175003</td>\n",
       "      <td>440090501041</td>\n",
       "      <td>41.633639</td>\n",
       "      <td>-71.434505</td>\n",
       "      <td>24.588424</td>\n",
       "      <td>20</td>\n",
       "      <td>2</td>\n",
       "    </tr>\n",
       "  </tbody>\n",
       "</table>\n",
       "<p>35940827 rows × 10 columns</p>\n",
       "</div>"
      ],
      "text/plain": [
       "                                               address     ad_lat     ad_lon  \\\n",
       "0         80 Richmond Townhouse Rd, Carolina, RI 02812  41.489365 -71.660706   \n",
       "1         80 Richmond Townhouse Rd, Carolina, RI 02812  41.489365 -71.660706   \n",
       "2         80 Richmond Townhouse Rd, Carolina, RI 02812  41.489365 -71.660706   \n",
       "3         80 Richmond Townhouse Rd, Carolina, RI 02812  41.489365 -71.660706   \n",
       "4         80 Richmond Townhouse Rd, Carolina, RI 02812  41.489365 -71.660706   \n",
       "...                                                ...        ...        ...   \n",
       "37154562           1409 Park Ave, Woonsocket, RI 02895  41.984573 -71.515750   \n",
       "37154563           1409 Park Ave, Woonsocket, RI 02895  41.984573 -71.515750   \n",
       "37154564           1409 Park Ave, Woonsocket, RI 02895  41.984573 -71.515750   \n",
       "37154565           1409 Park Ave, Woonsocket, RI 02895  41.984573 -71.515750   \n",
       "37154566           1409 Park Ave, Woonsocket, RI 02895  41.984573 -71.515750   \n",
       "\n",
       "            ad_bg_fips       bg_fips     bg_lat     bg_lon  distance_mi  \\\n",
       "0         440090506004  090116903001  41.362105 -72.107022    24.720511   \n",
       "1         440090506004  090116904001  41.356744 -72.108543    24.928589   \n",
       "2         440090506004  090116904002  41.351946 -72.106542    24.957116   \n",
       "3         440090506004  090116905003  41.353296 -72.101670    24.688172   \n",
       "4         440090506004  090116905001  41.358894 -72.102416    24.578674   \n",
       "...                ...           ...        ...        ...          ...   \n",
       "37154562  440070175003  440070184002  42.014946 -71.466851     3.270068   \n",
       "37154563  440070175003  440070184004  42.008856 -71.470713     2.855163   \n",
       "37154564  440070175003  440070185001  41.990746 -71.488182     1.477591   \n",
       "37154565  440070175003  440070185002  41.998316 -71.481420     2.001014   \n",
       "37154566  440070175003  440090501041  41.633639 -71.434505    24.588424   \n",
       "\n",
       "          ADI_NATRANK  ADI_STATERNK  \n",
       "0                  47             7  \n",
       "1                  82            10  \n",
       "2                  63             9  \n",
       "3                  68             9  \n",
       "4                  73            10  \n",
       "...               ...           ...  \n",
       "37154562           53             8  \n",
       "37154563           53             8  \n",
       "37154564           50             7  \n",
       "37154565           55             8  \n",
       "37154566           20             2  \n",
       "\n",
       "[35940827 rows x 10 columns]"
      ]
     },
     "execution_count": 12,
     "metadata": {},
     "output_type": "execute_result"
    }
   ],
   "source": [
    "food_valid_adi_no_nan_no_invalid"
   ]
  },
  {
   "cell_type": "code",
   "execution_count": 13,
   "metadata": {},
   "outputs": [],
   "source": [
    "food_valid_adi_no_nan_no_invalid = food_valid_adi_no_nan_no_invalid.reset_index(drop=True)"
   ]
  },
  {
   "attachments": {},
   "cell_type": "markdown",
   "metadata": {},
   "source": [
    "Match with state and county"
   ]
  },
  {
   "cell_type": "code",
   "execution_count": 14,
   "metadata": {},
   "outputs": [],
   "source": [
    "def find_state_fips(bg, state_data):\n",
    "    \n",
    "    st_fips = bg[:2]\n",
    "    for i in range(len(state_data)):\n",
    "        if state_data['st_fips'][i] == st_fips:            \n",
    "            return state_data['st_abb'][i]\n",
    "\n",
    "state_fips = pd.read_csv('../data/us-state-fips.csv',\n",
    "                        dtype = {'stname':str, ' st':str, ' stusps':str})\n",
    "state_fips = state_fips.rename(columns={'stname':'STATE', ' st':'st_fips', ' stusps':'st_abb'})\n",
    "\n",
    "\n",
    "state_fips.st_abb = state_fips.st_abb.str.strip()\n",
    "state_fips.st_fips = state_fips.st_fips.str.strip()\n"
   ]
  },
  {
   "attachments": {},
   "cell_type": "markdown",
   "metadata": {},
   "source": [
    "(ATTENTION!!) Running the below snippet will take nearly 5 hours to complete all matching between BG and its state. Please be aware that. "
   ]
  },
  {
   "cell_type": "code",
   "execution_count": 35,
   "metadata": {},
   "outputs": [
    {
     "name": "stderr",
     "output_type": "stream",
     "text": [
      "100%|██████████| 35940827/35940827 [2:39:56<00:00, 3745.18it/s]  \n",
      "100%|██████████| 35940827/35940827 [2:46:23<00:00, 3600.07it/s]  \n"
     ]
    }
   ],
   "source": [
    "food_valid_adi_no_nan_no_invalid['bg_state'] = food_valid_adi_no_nan_no_invalid.progress_apply(lambda x:find_state_fips(x.bg_fips, state_fips), axis=1)\n",
    "food_valid_adi_no_nan_no_invalid['address_state'] = food_valid_adi_no_nan_no_invalid.progress_apply(lambda x:find_state_fips(x.ad_bg_fips, state_fips), axis=1)"
   ]
  },
  {
   "cell_type": "code",
   "execution_count": 40,
   "metadata": {},
   "outputs": [
    {
     "data": {
      "text/plain": [
       "51"
      ]
     },
     "execution_count": 40,
     "metadata": {},
     "output_type": "execute_result"
    }
   ],
   "source": [
    "len(food_valid_adi_no_nan_no_invalid.bg_state.unique())"
   ]
  },
  {
   "attachments": {},
   "cell_type": "markdown",
   "metadata": {},
   "source": [
    "unique `bg_fips`"
   ]
  },
  {
   "cell_type": "code",
   "execution_count": 15,
   "metadata": {},
   "outputs": [
    {
     "data": {
      "text/plain": [
       "232735"
      ]
     },
     "execution_count": 15,
     "metadata": {},
     "output_type": "execute_result"
    }
   ],
   "source": [
    "len(food_valid_adi_no_nan_no_invalid.bg_fips.unique())"
   ]
  },
  {
   "attachments": {},
   "cell_type": "markdown",
   "metadata": {},
   "source": [
    "Saved the preprocessed `food_valid` (all of (pantry, BG) pairs) where each BG have numeric and non-missing national ADI percentiles. WILL BE MAINLY USED FOR FUTURE ANALYSIS."
   ]
  },
  {
   "cell_type": "code",
   "execution_count": 36,
   "metadata": {},
   "outputs": [],
   "source": [
    "#food_valid_adi_no_nan_no_invalid.to_pickle('../data/food_bg20_adi_st.pkl')"
   ]
  },
  {
   "attachments": {},
   "cell_type": "markdown",
   "metadata": {},
   "source": [
    "# Data Statistics"
   ]
  },
  {
   "attachments": {},
   "cell_type": "markdown",
   "metadata": {},
   "source": [
    "- Number of food pantries per state: 34475\n",
    "- Number of unique BGs: 232,735"
   ]
  },
  {
   "cell_type": "code",
   "execution_count": 15,
   "metadata": {},
   "outputs": [
    {
     "name": "stdout",
     "output_type": "stream",
     "text": [
      "number of FPs in total: 34475\n",
      "number of unique BGs: 232735\n"
     ]
    }
   ],
   "source": [
    "num_unique_pantries = len(food_valid_adi_no_nan_no_invalid.address.unique())\n",
    "print(f\"number of FPs in total: {num_unique_pantries}\")\n",
    "\n",
    "num_unique_bgs = len(food_valid_adi_no_nan_no_invalid.bg_fips.unique())\n",
    "print(f\"number of unique BGs: {num_unique_bgs}\")"
   ]
  },
  {
   "cell_type": "code",
   "execution_count": null,
   "metadata": {},
   "outputs": [],
   "source": []
  }
 ],
 "metadata": {
  "kernelspec": {
   "display_name": "Python 3",
   "language": "python",
   "name": "python3"
  },
  "language_info": {
   "codemirror_mode": {
    "name": "ipython",
    "version": 3
   },
   "file_extension": ".py",
   "mimetype": "text/x-python",
   "name": "python",
   "nbconvert_exporter": "python",
   "pygments_lexer": "ipython3",
   "version": "3.8.16"
  },
  "vscode": {
   "interpreter": {
    "hash": "31092ce0c996e8787f4b19c62caf821fc2a61fa3a509ce0d6e7ff4146971ca9f"
   }
  }
 },
 "nbformat": 4,
 "nbformat_minor": 4
}
