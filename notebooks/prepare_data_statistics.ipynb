{
 "cells": [
  {
   "cell_type": "code",
   "execution_count": 1,
   "metadata": {},
   "outputs": [],
   "source": [
    "import pandas as pd\n",
    "import numpy as np\n",
    "import matplotlib.pyplot as plt\n",
    "from tqdm import tqdm\n",
    "import math\n",
    "import seaborn as sns\n",
    "\n",
    "%matplotlib inline\n",
    "tqdm.pandas()"
   ]
  },
  {
   "attachments": {},
   "cell_type": "markdown",
   "metadata": {},
   "source": [
    "# 1. Prepare dataset\n",
    "\n",
    "- `bg_adi`: 2020-adjusted ADI percentile for every BGs\n",
    "- `bg20_adi`: Neighborhood Atlas's newly published 2020 ADI\n",
    "- `food`: for every BG, show every pantries within 25 mile (-> should be 20 mile)"
   ]
  },
  {
   "cell_type": "code",
   "execution_count": 3,
   "metadata": {},
   "outputs": [],
   "source": [
    "bg_adi = pd.read_csv('../data/convert_20BG_to_10BG_with_adi.csv', \n",
    "                       header=0, sep=',', \n",
    "                      dtype={'bg_fips':str, 'ADI_NATRANK':float, 'ADI_STATERNK':float})\n",
    "\n",
    "bg_adi['ADI_NATRANK'] = np.floor(bg_adi['ADI_NATRANK'])\n",
    "bg_adi['ADI_STATERNK'] = np.floor(bg_adi['ADI_STATERNK'])"
   ]
  },
  {
   "cell_type": "code",
   "execution_count": 5,
   "metadata": {},
   "outputs": [
    {
     "data": {
      "text/html": [
       "<div>\n",
       "<style scoped>\n",
       "    .dataframe tbody tr th:only-of-type {\n",
       "        vertical-align: middle;\n",
       "    }\n",
       "\n",
       "    .dataframe tbody tr th {\n",
       "        vertical-align: top;\n",
       "    }\n",
       "\n",
       "    .dataframe thead th {\n",
       "        text-align: right;\n",
       "    }\n",
       "</style>\n",
       "<table border=\"1\" class=\"dataframe\">\n",
       "  <thead>\n",
       "    <tr style=\"text-align: right;\">\n",
       "      <th></th>\n",
       "      <th>bg_fips</th>\n",
       "      <th>ADI_NATRANK</th>\n",
       "      <th>ADI_STATERNK</th>\n",
       "    </tr>\n",
       "  </thead>\n",
       "  <tbody>\n",
       "    <tr>\n",
       "      <th>0</th>\n",
       "      <td>010010201001</td>\n",
       "      <td>85.0</td>\n",
       "      <td>7.0</td>\n",
       "    </tr>\n",
       "    <tr>\n",
       "      <th>1</th>\n",
       "      <td>010010201002</td>\n",
       "      <td>52.0</td>\n",
       "      <td>2.0</td>\n",
       "    </tr>\n",
       "    <tr>\n",
       "      <th>2</th>\n",
       "      <td>010010202001</td>\n",
       "      <td>88.0</td>\n",
       "      <td>8.0</td>\n",
       "    </tr>\n",
       "    <tr>\n",
       "      <th>3</th>\n",
       "      <td>010010202002</td>\n",
       "      <td>82.0</td>\n",
       "      <td>6.0</td>\n",
       "    </tr>\n",
       "    <tr>\n",
       "      <th>4</th>\n",
       "      <td>010010203001</td>\n",
       "      <td>71.0</td>\n",
       "      <td>5.0</td>\n",
       "    </tr>\n",
       "  </tbody>\n",
       "</table>\n",
       "</div>"
      ],
      "text/plain": [
       "        bg_fips  ADI_NATRANK  ADI_STATERNK\n",
       "0  010010201001         85.0           7.0\n",
       "1  010010201002         52.0           2.0\n",
       "2  010010202001         88.0           8.0\n",
       "3  010010202002         82.0           6.0\n",
       "4  010010203001         71.0           5.0"
      ]
     },
     "execution_count": 5,
     "metadata": {},
     "output_type": "execute_result"
    }
   ],
   "source": [
    "bg_adi.head()"
   ]
  },
  {
   "cell_type": "code",
   "execution_count": 21,
   "metadata": {},
   "outputs": [],
   "source": [
    "bg20_adi = pd.read_csv('../data/US_2020_ADI_Census Block Group_v3.2.csv', \n",
    "                        dtype={'FIPS':str, 'ADI_NATRANK':str, 'ADI_STATERNK':str})\n",
    "bg20_adi = bg20_adi[['FIPS', 'ADI_NATRANK', 'ADI_STATERNK']]\n",
    "bg20_adi = bg20_adi.rename(columns={'FIPS':'bg_fips'})"
   ]
  },
  {
   "cell_type": "code",
   "execution_count": 30,
   "metadata": {},
   "outputs": [
    {
     "data": {
      "text/html": [
       "<div>\n",
       "<style scoped>\n",
       "    .dataframe tbody tr th:only-of-type {\n",
       "        vertical-align: middle;\n",
       "    }\n",
       "\n",
       "    .dataframe tbody tr th {\n",
       "        vertical-align: top;\n",
       "    }\n",
       "\n",
       "    .dataframe thead th {\n",
       "        text-align: right;\n",
       "    }\n",
       "</style>\n",
       "<table border=\"1\" class=\"dataframe\">\n",
       "  <thead>\n",
       "    <tr style=\"text-align: right;\">\n",
       "      <th></th>\n",
       "      <th>bg_fips</th>\n",
       "      <th>ADI_NATRANK</th>\n",
       "      <th>ADI_STATERNK</th>\n",
       "    </tr>\n",
       "  </thead>\n",
       "  <tbody>\n",
       "    <tr>\n",
       "      <th>0</th>\n",
       "      <td>010010201001</td>\n",
       "      <td>73</td>\n",
       "      <td>5</td>\n",
       "    </tr>\n",
       "    <tr>\n",
       "      <th>1</th>\n",
       "      <td>010010201002</td>\n",
       "      <td>62</td>\n",
       "      <td>3</td>\n",
       "    </tr>\n",
       "    <tr>\n",
       "      <th>2</th>\n",
       "      <td>010010202001</td>\n",
       "      <td>83</td>\n",
       "      <td>7</td>\n",
       "    </tr>\n",
       "    <tr>\n",
       "      <th>3</th>\n",
       "      <td>010010202002</td>\n",
       "      <td>87</td>\n",
       "      <td>7</td>\n",
       "    </tr>\n",
       "    <tr>\n",
       "      <th>4</th>\n",
       "      <td>010010203001</td>\n",
       "      <td>73</td>\n",
       "      <td>5</td>\n",
       "    </tr>\n",
       "    <tr>\n",
       "      <th>...</th>\n",
       "      <td>...</td>\n",
       "      <td>...</td>\n",
       "      <td>...</td>\n",
       "    </tr>\n",
       "    <tr>\n",
       "      <th>242330</th>\n",
       "      <td>721537506011</td>\n",
       "      <td>92</td>\n",
       "      <td>6</td>\n",
       "    </tr>\n",
       "    <tr>\n",
       "      <th>242331</th>\n",
       "      <td>721537506012</td>\n",
       "      <td>87</td>\n",
       "      <td>4</td>\n",
       "    </tr>\n",
       "    <tr>\n",
       "      <th>242332</th>\n",
       "      <td>721537506013</td>\n",
       "      <td>93</td>\n",
       "      <td>7</td>\n",
       "    </tr>\n",
       "    <tr>\n",
       "      <th>242333</th>\n",
       "      <td>721537506021</td>\n",
       "      <td>98</td>\n",
       "      <td>10</td>\n",
       "    </tr>\n",
       "    <tr>\n",
       "      <th>242334</th>\n",
       "      <td>721537506022</td>\n",
       "      <td>95</td>\n",
       "      <td>8</td>\n",
       "    </tr>\n",
       "  </tbody>\n",
       "</table>\n",
       "<p>242335 rows × 3 columns</p>\n",
       "</div>"
      ],
      "text/plain": [
       "             bg_fips ADI_NATRANK ADI_STATERNK\n",
       "0       010010201001          73            5\n",
       "1       010010201002          62            3\n",
       "2       010010202001          83            7\n",
       "3       010010202002          87            7\n",
       "4       010010203001          73            5\n",
       "...              ...         ...          ...\n",
       "242330  721537506011          92            6\n",
       "242331  721537506012          87            4\n",
       "242332  721537506013          93            7\n",
       "242333  721537506021          98           10\n",
       "242334  721537506022          95            8\n",
       "\n",
       "[242335 rows x 3 columns]"
      ]
     },
     "execution_count": 30,
     "metadata": {},
     "output_type": "execute_result"
    }
   ],
   "source": [
    "bg20_adi"
   ]
  },
  {
   "cell_type": "code",
   "execution_count": 14,
   "metadata": {},
   "outputs": [],
   "source": [
    "food = pd.read_pickle('../data/food_adi_converted_bg20_with_st_county.pkl')"
   ]
  },
  {
   "cell_type": "code",
   "execution_count": 16,
   "metadata": {},
   "outputs": [
    {
     "data": {
      "text/html": [
       "<div>\n",
       "<style scoped>\n",
       "    .dataframe tbody tr th:only-of-type {\n",
       "        vertical-align: middle;\n",
       "    }\n",
       "\n",
       "    .dataframe tbody tr th {\n",
       "        vertical-align: top;\n",
       "    }\n",
       "\n",
       "    .dataframe thead th {\n",
       "        text-align: right;\n",
       "    }\n",
       "</style>\n",
       "<table border=\"1\" class=\"dataframe\">\n",
       "  <thead>\n",
       "    <tr style=\"text-align: right;\">\n",
       "      <th></th>\n",
       "      <th>address</th>\n",
       "      <th>ad_lat</th>\n",
       "      <th>ad_lon</th>\n",
       "      <th>ad_bg_fips</th>\n",
       "      <th>bg_fips</th>\n",
       "      <th>bg_lat</th>\n",
       "      <th>bg_lon</th>\n",
       "      <th>distance_mi</th>\n",
       "      <th>ADI_NATRANK</th>\n",
       "      <th>ADI_STATERNK</th>\n",
       "      <th>bg_state</th>\n",
       "      <th>address_state</th>\n",
       "      <th>bg_county</th>\n",
       "      <th>address_county</th>\n",
       "    </tr>\n",
       "  </thead>\n",
       "  <tbody>\n",
       "    <tr>\n",
       "      <th>0</th>\n",
       "      <td>80 Richmond Townhouse Rd, Carolina, RI 02812</td>\n",
       "      <td>41.489365</td>\n",
       "      <td>-71.660706</td>\n",
       "      <td>440090506004</td>\n",
       "      <td>090116903001</td>\n",
       "      <td>41.362105</td>\n",
       "      <td>-72.107022</td>\n",
       "      <td>24.720511</td>\n",
       "      <td>54</td>\n",
       "      <td>8</td>\n",
       "      <td>CT</td>\n",
       "      <td>RI</td>\n",
       "      <td>09011</td>\n",
       "      <td>44009</td>\n",
       "    </tr>\n",
       "    <tr>\n",
       "      <th>1</th>\n",
       "      <td>80 Richmond Townhouse Rd, Carolina, RI 02812</td>\n",
       "      <td>41.489365</td>\n",
       "      <td>-71.660706</td>\n",
       "      <td>440090506004</td>\n",
       "      <td>090116904001</td>\n",
       "      <td>41.356744</td>\n",
       "      <td>-72.108543</td>\n",
       "      <td>24.928589</td>\n",
       "      <td>70</td>\n",
       "      <td>9</td>\n",
       "      <td>CT</td>\n",
       "      <td>RI</td>\n",
       "      <td>09011</td>\n",
       "      <td>44009</td>\n",
       "    </tr>\n",
       "    <tr>\n",
       "      <th>2</th>\n",
       "      <td>80 Richmond Townhouse Rd, Carolina, RI 02812</td>\n",
       "      <td>41.489365</td>\n",
       "      <td>-71.660706</td>\n",
       "      <td>440090506004</td>\n",
       "      <td>090116904002</td>\n",
       "      <td>41.351946</td>\n",
       "      <td>-72.106542</td>\n",
       "      <td>24.957116</td>\n",
       "      <td>65</td>\n",
       "      <td>9</td>\n",
       "      <td>CT</td>\n",
       "      <td>RI</td>\n",
       "      <td>09011</td>\n",
       "      <td>44009</td>\n",
       "    </tr>\n",
       "    <tr>\n",
       "      <th>3</th>\n",
       "      <td>80 Richmond Townhouse Rd, Carolina, RI 02812</td>\n",
       "      <td>41.489365</td>\n",
       "      <td>-71.660706</td>\n",
       "      <td>440090506004</td>\n",
       "      <td>090116905003</td>\n",
       "      <td>41.353296</td>\n",
       "      <td>-72.101670</td>\n",
       "      <td>24.688172</td>\n",
       "      <td>69</td>\n",
       "      <td>10</td>\n",
       "      <td>CT</td>\n",
       "      <td>RI</td>\n",
       "      <td>09011</td>\n",
       "      <td>44009</td>\n",
       "    </tr>\n",
       "    <tr>\n",
       "      <th>4</th>\n",
       "      <td>80 Richmond Townhouse Rd, Carolina, RI 02812</td>\n",
       "      <td>41.489365</td>\n",
       "      <td>-71.660706</td>\n",
       "      <td>440090506004</td>\n",
       "      <td>090116905001</td>\n",
       "      <td>41.358894</td>\n",
       "      <td>-72.102416</td>\n",
       "      <td>24.578674</td>\n",
       "      <td>69</td>\n",
       "      <td>10</td>\n",
       "      <td>CT</td>\n",
       "      <td>RI</td>\n",
       "      <td>09011</td>\n",
       "      <td>44009</td>\n",
       "    </tr>\n",
       "  </tbody>\n",
       "</table>\n",
       "</div>"
      ],
      "text/plain": [
       "                                        address     ad_lat     ad_lon  \\\n",
       "0  80 Richmond Townhouse Rd, Carolina, RI 02812  41.489365 -71.660706   \n",
       "1  80 Richmond Townhouse Rd, Carolina, RI 02812  41.489365 -71.660706   \n",
       "2  80 Richmond Townhouse Rd, Carolina, RI 02812  41.489365 -71.660706   \n",
       "3  80 Richmond Townhouse Rd, Carolina, RI 02812  41.489365 -71.660706   \n",
       "4  80 Richmond Townhouse Rd, Carolina, RI 02812  41.489365 -71.660706   \n",
       "\n",
       "     ad_bg_fips       bg_fips     bg_lat     bg_lon  distance_mi  ADI_NATRANK  \\\n",
       "0  440090506004  090116903001  41.362105 -72.107022    24.720511           54   \n",
       "1  440090506004  090116904001  41.356744 -72.108543    24.928589           70   \n",
       "2  440090506004  090116904002  41.351946 -72.106542    24.957116           65   \n",
       "3  440090506004  090116905003  41.353296 -72.101670    24.688172           69   \n",
       "4  440090506004  090116905001  41.358894 -72.102416    24.578674           69   \n",
       "\n",
       "   ADI_STATERNK bg_state address_state bg_county address_county  \n",
       "0             8       CT            RI     09011          44009  \n",
       "1             9       CT            RI     09011          44009  \n",
       "2             9       CT            RI     09011          44009  \n",
       "3            10       CT            RI     09011          44009  \n",
       "4            10       CT            RI     09011          44009  "
      ]
     },
     "execution_count": 16,
     "metadata": {},
     "output_type": "execute_result"
    }
   ],
   "source": [
    "food.head()"
   ]
  },
  {
   "attachments": {},
   "cell_type": "markdown",
   "metadata": {},
   "source": [
    "`food_valid`: we need to import this (which includes all original addresses we collected by computing geo-distances between a food pantry point and neighborhoods within 25 miles) -> Then, we need to merge it with the newly published 2020 ADI valud for the updated database."
   ]
  },
  {
   "cell_type": "code",
   "execution_count": 17,
   "metadata": {},
   "outputs": [],
   "source": [
    "food_valid = pd.read_pickle('../data/food_valid_filtered_all_combined.pkl')"
   ]
  },
  {
   "cell_type": "code",
   "execution_count": 19,
   "metadata": {},
   "outputs": [
    {
     "name": "stdout",
     "output_type": "stream",
     "text": [
      "<class 'pandas.core.frame.DataFrame'>\n",
      "RangeIndex: 37154567 entries, 0 to 37154566\n",
      "Data columns (total 8 columns):\n",
      " #   Column       Dtype  \n",
      "---  ------       -----  \n",
      " 0   address      object \n",
      " 1   ad_lat       float64\n",
      " 2   ad_lon       float64\n",
      " 3   ad_bg_fips   object \n",
      " 4   bg_fips      object \n",
      " 5   bg_lat       float64\n",
      " 6   bg_lon       float64\n",
      " 7   distance_mi  float64\n",
      "dtypes: float64(5), object(3)\n",
      "memory usage: 2.2+ GB\n"
     ]
    }
   ],
   "source": [
    "food_valid.info()"
   ]
  },
  {
   "attachments": {},
   "cell_type": "markdown",
   "metadata": {},
   "source": [
    "## Merge 2020 ADI with `food_valid`"
   ]
  },
  {
   "cell_type": "code",
   "execution_count": 20,
   "metadata": {},
   "outputs": [
    {
     "name": "stdout",
     "output_type": "stream",
     "text": [
      "34475 238536\n"
     ]
    }
   ],
   "source": [
    "print(len(food_valid['address'].unique()), len(food_valid['bg_fips'].unique()))"
   ]
  },
  {
   "cell_type": "code",
   "execution_count": 23,
   "metadata": {},
   "outputs": [],
   "source": [
    "food_valid_adi = food_valid.merge(bg20_adi.drop_duplicates(subset=['bg_fips']), how='left', on='bg_fips')"
   ]
  },
  {
   "cell_type": "code",
   "execution_count": 24,
   "metadata": {},
   "outputs": [
    {
     "name": "stdout",
     "output_type": "stream",
     "text": [
      "<class 'pandas.core.frame.DataFrame'>\n",
      "Int64Index: 37154567 entries, 0 to 37154566\n",
      "Data columns (total 10 columns):\n",
      " #   Column        Dtype  \n",
      "---  ------        -----  \n",
      " 0   address       object \n",
      " 1   ad_lat        float64\n",
      " 2   ad_lon        float64\n",
      " 3   ad_bg_fips    object \n",
      " 4   bg_fips       object \n",
      " 5   bg_lat        float64\n",
      " 6   bg_lon        float64\n",
      " 7   distance_mi   float64\n",
      " 8   ADI_NATRANK   object \n",
      " 9   ADI_STATERNK  object \n",
      "dtypes: float64(5), object(5)\n",
      "memory usage: 3.0+ GB\n"
     ]
    }
   ],
   "source": [
    "food_valid_adi.info()"
   ]
  },
  {
   "cell_type": "code",
   "execution_count": 26,
   "metadata": {},
   "outputs": [],
   "source": [
    "food_valid_adi_no_nan = food_valid_adi.loc[food_valid_adi['ADI_NATRANK'].isna()==False]\n",
    "food_valid_adi_no_nan_no_invalid = food_valid_adi_no_nan.loc[food_valid_adi_no_nan['ADI_NATRANK'].str.isnumeric()]"
   ]
  },
  {
   "cell_type": "code",
   "execution_count": 31,
   "metadata": {},
   "outputs": [
    {
     "name": "stdout",
     "output_type": "stream",
     "text": [
      "<class 'pandas.core.frame.DataFrame'>\n",
      "Int64Index: 35940827 entries, 0 to 37154566\n",
      "Data columns (total 10 columns):\n",
      " #   Column        Dtype  \n",
      "---  ------        -----  \n",
      " 0   address       object \n",
      " 1   ad_lat        float64\n",
      " 2   ad_lon        float64\n",
      " 3   ad_bg_fips    object \n",
      " 4   bg_fips       object \n",
      " 5   bg_lat        float64\n",
      " 6   bg_lon        float64\n",
      " 7   distance_mi   float64\n",
      " 8   ADI_NATRANK   int64  \n",
      " 9   ADI_STATERNK  int64  \n",
      "dtypes: float64(5), int64(2), object(3)\n",
      "memory usage: 2.9+ GB\n"
     ]
    }
   ],
   "source": [
    "food_valid_adi_no_nan_no_invalid.info()\n"
   ]
  },
  {
   "cell_type": "code",
   "execution_count": 28,
   "metadata": {},
   "outputs": [
    {
     "name": "stderr",
     "output_type": "stream",
     "text": [
      "/var/folders/qd/3csq0x3s6x56yvjlmpx4svqm0000gn/T/ipykernel_19501/3850011781.py:1: SettingWithCopyWarning: \n",
      "A value is trying to be set on a copy of a slice from a DataFrame.\n",
      "Try using .loc[row_indexer,col_indexer] = value instead\n",
      "\n",
      "See the caveats in the documentation: https://pandas.pydata.org/pandas-docs/stable/user_guide/indexing.html#returning-a-view-versus-a-copy\n",
      "  food_valid_adi_no_nan_no_invalid['ADI_NATRANK'] = food_valid_adi_no_nan_no_invalid['ADI_NATRANK'].astype('int')\n",
      "/var/folders/qd/3csq0x3s6x56yvjlmpx4svqm0000gn/T/ipykernel_19501/3850011781.py:2: SettingWithCopyWarning: \n",
      "A value is trying to be set on a copy of a slice from a DataFrame.\n",
      "Try using .loc[row_indexer,col_indexer] = value instead\n",
      "\n",
      "See the caveats in the documentation: https://pandas.pydata.org/pandas-docs/stable/user_guide/indexing.html#returning-a-view-versus-a-copy\n",
      "  food_valid_adi_no_nan_no_invalid['ADI_STATERNK'] = food_valid_adi_no_nan_no_invalid['ADI_STATERNK'].astype('int')\n"
     ]
    }
   ],
   "source": [
    "food_valid_adi_no_nan_no_invalid['ADI_NATRANK'] = food_valid_adi_no_nan_no_invalid['ADI_NATRANK'].astype('int')\n",
    "food_valid_adi_no_nan_no_invalid['ADI_STATERNK'] = food_valid_adi_no_nan_no_invalid['ADI_STATERNK'].astype('int')"
   ]
  },
  {
   "cell_type": "code",
   "execution_count": 29,
   "metadata": {},
   "outputs": [
    {
     "data": {
      "text/html": [
       "<div>\n",
       "<style scoped>\n",
       "    .dataframe tbody tr th:only-of-type {\n",
       "        vertical-align: middle;\n",
       "    }\n",
       "\n",
       "    .dataframe tbody tr th {\n",
       "        vertical-align: top;\n",
       "    }\n",
       "\n",
       "    .dataframe thead th {\n",
       "        text-align: right;\n",
       "    }\n",
       "</style>\n",
       "<table border=\"1\" class=\"dataframe\">\n",
       "  <thead>\n",
       "    <tr style=\"text-align: right;\">\n",
       "      <th></th>\n",
       "      <th>address</th>\n",
       "      <th>ad_lat</th>\n",
       "      <th>ad_lon</th>\n",
       "      <th>ad_bg_fips</th>\n",
       "      <th>bg_fips</th>\n",
       "      <th>bg_lat</th>\n",
       "      <th>bg_lon</th>\n",
       "      <th>distance_mi</th>\n",
       "      <th>ADI_NATRANK</th>\n",
       "      <th>ADI_STATERNK</th>\n",
       "    </tr>\n",
       "  </thead>\n",
       "  <tbody>\n",
       "    <tr>\n",
       "      <th>0</th>\n",
       "      <td>80 Richmond Townhouse Rd, Carolina, RI 02812</td>\n",
       "      <td>41.489365</td>\n",
       "      <td>-71.660706</td>\n",
       "      <td>440090506004</td>\n",
       "      <td>090116903001</td>\n",
       "      <td>41.362105</td>\n",
       "      <td>-72.107022</td>\n",
       "      <td>24.720511</td>\n",
       "      <td>47</td>\n",
       "      <td>7</td>\n",
       "    </tr>\n",
       "    <tr>\n",
       "      <th>1</th>\n",
       "      <td>80 Richmond Townhouse Rd, Carolina, RI 02812</td>\n",
       "      <td>41.489365</td>\n",
       "      <td>-71.660706</td>\n",
       "      <td>440090506004</td>\n",
       "      <td>090116904001</td>\n",
       "      <td>41.356744</td>\n",
       "      <td>-72.108543</td>\n",
       "      <td>24.928589</td>\n",
       "      <td>82</td>\n",
       "      <td>10</td>\n",
       "    </tr>\n",
       "    <tr>\n",
       "      <th>2</th>\n",
       "      <td>80 Richmond Townhouse Rd, Carolina, RI 02812</td>\n",
       "      <td>41.489365</td>\n",
       "      <td>-71.660706</td>\n",
       "      <td>440090506004</td>\n",
       "      <td>090116904002</td>\n",
       "      <td>41.351946</td>\n",
       "      <td>-72.106542</td>\n",
       "      <td>24.957116</td>\n",
       "      <td>63</td>\n",
       "      <td>9</td>\n",
       "    </tr>\n",
       "    <tr>\n",
       "      <th>3</th>\n",
       "      <td>80 Richmond Townhouse Rd, Carolina, RI 02812</td>\n",
       "      <td>41.489365</td>\n",
       "      <td>-71.660706</td>\n",
       "      <td>440090506004</td>\n",
       "      <td>090116905003</td>\n",
       "      <td>41.353296</td>\n",
       "      <td>-72.101670</td>\n",
       "      <td>24.688172</td>\n",
       "      <td>68</td>\n",
       "      <td>9</td>\n",
       "    </tr>\n",
       "    <tr>\n",
       "      <th>4</th>\n",
       "      <td>80 Richmond Townhouse Rd, Carolina, RI 02812</td>\n",
       "      <td>41.489365</td>\n",
       "      <td>-71.660706</td>\n",
       "      <td>440090506004</td>\n",
       "      <td>090116905001</td>\n",
       "      <td>41.358894</td>\n",
       "      <td>-72.102416</td>\n",
       "      <td>24.578674</td>\n",
       "      <td>73</td>\n",
       "      <td>10</td>\n",
       "    </tr>\n",
       "    <tr>\n",
       "      <th>...</th>\n",
       "      <td>...</td>\n",
       "      <td>...</td>\n",
       "      <td>...</td>\n",
       "      <td>...</td>\n",
       "      <td>...</td>\n",
       "      <td>...</td>\n",
       "      <td>...</td>\n",
       "      <td>...</td>\n",
       "      <td>...</td>\n",
       "      <td>...</td>\n",
       "    </tr>\n",
       "    <tr>\n",
       "      <th>37154562</th>\n",
       "      <td>1409 Park Ave, Woonsocket, RI 02895</td>\n",
       "      <td>41.984573</td>\n",
       "      <td>-71.515750</td>\n",
       "      <td>440070175003</td>\n",
       "      <td>440070184002</td>\n",
       "      <td>42.014946</td>\n",
       "      <td>-71.466851</td>\n",
       "      <td>3.270068</td>\n",
       "      <td>53</td>\n",
       "      <td>8</td>\n",
       "    </tr>\n",
       "    <tr>\n",
       "      <th>37154563</th>\n",
       "      <td>1409 Park Ave, Woonsocket, RI 02895</td>\n",
       "      <td>41.984573</td>\n",
       "      <td>-71.515750</td>\n",
       "      <td>440070175003</td>\n",
       "      <td>440070184004</td>\n",
       "      <td>42.008856</td>\n",
       "      <td>-71.470713</td>\n",
       "      <td>2.855163</td>\n",
       "      <td>53</td>\n",
       "      <td>8</td>\n",
       "    </tr>\n",
       "    <tr>\n",
       "      <th>37154564</th>\n",
       "      <td>1409 Park Ave, Woonsocket, RI 02895</td>\n",
       "      <td>41.984573</td>\n",
       "      <td>-71.515750</td>\n",
       "      <td>440070175003</td>\n",
       "      <td>440070185001</td>\n",
       "      <td>41.990746</td>\n",
       "      <td>-71.488182</td>\n",
       "      <td>1.477591</td>\n",
       "      <td>50</td>\n",
       "      <td>7</td>\n",
       "    </tr>\n",
       "    <tr>\n",
       "      <th>37154565</th>\n",
       "      <td>1409 Park Ave, Woonsocket, RI 02895</td>\n",
       "      <td>41.984573</td>\n",
       "      <td>-71.515750</td>\n",
       "      <td>440070175003</td>\n",
       "      <td>440070185002</td>\n",
       "      <td>41.998316</td>\n",
       "      <td>-71.481420</td>\n",
       "      <td>2.001014</td>\n",
       "      <td>55</td>\n",
       "      <td>8</td>\n",
       "    </tr>\n",
       "    <tr>\n",
       "      <th>37154566</th>\n",
       "      <td>1409 Park Ave, Woonsocket, RI 02895</td>\n",
       "      <td>41.984573</td>\n",
       "      <td>-71.515750</td>\n",
       "      <td>440070175003</td>\n",
       "      <td>440090501041</td>\n",
       "      <td>41.633639</td>\n",
       "      <td>-71.434505</td>\n",
       "      <td>24.588424</td>\n",
       "      <td>20</td>\n",
       "      <td>2</td>\n",
       "    </tr>\n",
       "  </tbody>\n",
       "</table>\n",
       "<p>35940827 rows × 10 columns</p>\n",
       "</div>"
      ],
      "text/plain": [
       "                                               address     ad_lat     ad_lon  \\\n",
       "0         80 Richmond Townhouse Rd, Carolina, RI 02812  41.489365 -71.660706   \n",
       "1         80 Richmond Townhouse Rd, Carolina, RI 02812  41.489365 -71.660706   \n",
       "2         80 Richmond Townhouse Rd, Carolina, RI 02812  41.489365 -71.660706   \n",
       "3         80 Richmond Townhouse Rd, Carolina, RI 02812  41.489365 -71.660706   \n",
       "4         80 Richmond Townhouse Rd, Carolina, RI 02812  41.489365 -71.660706   \n",
       "...                                                ...        ...        ...   \n",
       "37154562           1409 Park Ave, Woonsocket, RI 02895  41.984573 -71.515750   \n",
       "37154563           1409 Park Ave, Woonsocket, RI 02895  41.984573 -71.515750   \n",
       "37154564           1409 Park Ave, Woonsocket, RI 02895  41.984573 -71.515750   \n",
       "37154565           1409 Park Ave, Woonsocket, RI 02895  41.984573 -71.515750   \n",
       "37154566           1409 Park Ave, Woonsocket, RI 02895  41.984573 -71.515750   \n",
       "\n",
       "            ad_bg_fips       bg_fips     bg_lat     bg_lon  distance_mi  \\\n",
       "0         440090506004  090116903001  41.362105 -72.107022    24.720511   \n",
       "1         440090506004  090116904001  41.356744 -72.108543    24.928589   \n",
       "2         440090506004  090116904002  41.351946 -72.106542    24.957116   \n",
       "3         440090506004  090116905003  41.353296 -72.101670    24.688172   \n",
       "4         440090506004  090116905001  41.358894 -72.102416    24.578674   \n",
       "...                ...           ...        ...        ...          ...   \n",
       "37154562  440070175003  440070184002  42.014946 -71.466851     3.270068   \n",
       "37154563  440070175003  440070184004  42.008856 -71.470713     2.855163   \n",
       "37154564  440070175003  440070185001  41.990746 -71.488182     1.477591   \n",
       "37154565  440070175003  440070185002  41.998316 -71.481420     2.001014   \n",
       "37154566  440070175003  440090501041  41.633639 -71.434505    24.588424   \n",
       "\n",
       "          ADI_NATRANK  ADI_STATERNK  \n",
       "0                  47             7  \n",
       "1                  82            10  \n",
       "2                  63             9  \n",
       "3                  68             9  \n",
       "4                  73            10  \n",
       "...               ...           ...  \n",
       "37154562           53             8  \n",
       "37154563           53             8  \n",
       "37154564           50             7  \n",
       "37154565           55             8  \n",
       "37154566           20             2  \n",
       "\n",
       "[35940827 rows x 10 columns]"
      ]
     },
     "execution_count": 29,
     "metadata": {},
     "output_type": "execute_result"
    }
   ],
   "source": [
    "food_valid_adi_no_nan_no_invalid"
   ]
  },
  {
   "cell_type": "code",
   "execution_count": 32,
   "metadata": {},
   "outputs": [],
   "source": [
    "food_valid_adi_no_nan_no_invalid = food_valid_adi_no_nan_no_invalid.reset_index(drop=True)"
   ]
  },
  {
   "cell_type": "code",
   "execution_count": 33,
   "metadata": {},
   "outputs": [],
   "source": [
    "food_valid_adi_no_nan_no_invalid.to_csv('../data/food_bg20_adi.csv', index=False)"
   ]
  },
  {
   "attachments": {},
   "cell_type": "markdown",
   "metadata": {},
   "source": [
    "Match with state and county"
   ]
  },
  {
   "cell_type": "code",
   "execution_count": 34,
   "metadata": {},
   "outputs": [],
   "source": [
    "def find_state_fips(bg, state_data):\n",
    "    \n",
    "    st_fips = bg[:2]\n",
    "    for i in range(len(state_data)):\n",
    "        if state_data['st_fips'][i] == st_fips:            \n",
    "            return state_data['st_abb'][i]\n",
    "\n",
    "state_fips = pd.read_csv('../data/us-state-fips.csv',\n",
    "                        dtype = {'stname':str, ' st':str, ' stusps':str})\n",
    "state_fips = state_fips.rename(columns={'stname':'STATE', ' st':'st_fips', ' stusps':'st_abb'})\n",
    "\n",
    "\n",
    "state_fips.st_abb = state_fips.st_abb.str.strip()\n",
    "state_fips.st_fips = state_fips.st_fips.str.strip()\n"
   ]
  },
  {
   "cell_type": "code",
   "execution_count": null,
   "metadata": {},
   "outputs": [],
   "source": []
  },
  {
   "cell_type": "code",
   "execution_count": 35,
   "metadata": {},
   "outputs": [
    {
     "name": "stderr",
     "output_type": "stream",
     "text": [
      "100%|██████████| 35940827/35940827 [2:39:56<00:00, 3745.18it/s]  \n",
      "100%|██████████| 35940827/35940827 [2:46:23<00:00, 3600.07it/s]  \n"
     ]
    }
   ],
   "source": [
    "food_valid_adi_no_nan_no_invalid['bg_state'] = food_valid_adi_no_nan_no_invalid.progress_apply(lambda x:find_state_fips(x.bg_fips, state_fips), axis=1)\n",
    "food_valid_adi_no_nan_no_invalid['address_state'] = food_valid_adi_no_nan_no_invalid.progress_apply(lambda x:find_state_fips(x.ad_bg_fips, state_fips), axis=1)"
   ]
  },
  {
   "cell_type": "code",
   "execution_count": 36,
   "metadata": {},
   "outputs": [],
   "source": [
    "#food_valid_adi_no_nan_no_invalid.to_pickle('../data/food_bg20_adi_st.pkl')"
   ]
  },
  {
   "cell_type": "code",
   "execution_count": 40,
   "metadata": {},
   "outputs": [
    {
     "data": {
      "text/plain": [
       "51"
      ]
     },
     "execution_count": 40,
     "metadata": {},
     "output_type": "execute_result"
    }
   ],
   "source": [
    "len(food_valid_adi_no_nan_no_invalid.bg_state.unique())"
   ]
  },
  {
   "attachments": {},
   "cell_type": "markdown",
   "metadata": {},
   "source": [
    "unique `bg_fips`"
   ]
  },
  {
   "cell_type": "code",
   "execution_count": 41,
   "metadata": {},
   "outputs": [
    {
     "data": {
      "text/plain": [
       "232735"
      ]
     },
     "execution_count": 41,
     "metadata": {},
     "output_type": "execute_result"
    }
   ],
   "source": [
    "len(food_valid_adi_no_nan_no_invalid.bg_fips.unique())"
   ]
  },
  {
   "attachments": {},
   "cell_type": "markdown",
   "metadata": {},
   "source": [
    "# Data Statistics"
   ]
  },
  {
   "attachments": {},
   "cell_type": "markdown",
   "metadata": {},
   "source": [
    "- Number of food pantries per state: 34475\n",
    "- Number of unique BGs: 232,735"
   ]
  },
  {
   "cell_type": "code",
   "execution_count": 45,
   "metadata": {},
   "outputs": [
    {
     "name": "stdout",
     "output_type": "stream",
     "text": [
      "number of FPs in total: 34475\n",
      "number of unique BGs: 232735\n"
     ]
    }
   ],
   "source": [
    "num_unique_pantries = len(food_valid_adi_no_nan_no_invalid.address.unique())\n",
    "print(f\"number of FPs in total: {num_unique_pantries}\")\n",
    "\n",
    "num_unique_bgs = len(food_valid_adi_no_nan_no_invalid.bg_fips.unique())\n",
    "print(f\"number of unique BGs: {num_unique_bgs}\")"
   ]
  },
  {
   "attachments": {},
   "cell_type": "markdown",
   "metadata": {},
   "source": [
    "- Number of FPs per state: NY, TX, CA, FL, OH (Top) / DC, DE, WY, HI, SD, AK (Bottom) - from `num_pantries_state`\n",
    "\n",
    "- `num_served_bgs_state`: the number of BGs that food pantries served per state "
   ]
  },
  {
   "cell_type": "code",
   "execution_count": 47,
   "metadata": {},
   "outputs": [],
   "source": [
    "num_pantries_state = food_valid_adi_no_nan_no_invalid.groupby('address').first().address_state.value_counts()\n",
    "num_served_bgs_state = food_valid_adi_no_nan_no_invalid.address_state.value_counts()"
   ]
  },
  {
   "attachments": {},
   "cell_type": "markdown",
   "metadata": {},
   "source": [
    "The number of BGs that a food pantry in each state serves"
   ]
  },
  {
   "cell_type": "code",
   "execution_count": 50,
   "metadata": {},
   "outputs": [
    {
     "data": {
      "text/plain": [
       "NY    4595.257560\n",
       "NJ    4241.696093\n",
       "DC    3126.292683\n",
       "CA    2102.337966\n",
       "MA    1636.473039\n",
       "MD    1457.955277\n",
       "IL    1439.653687\n",
       "CT    1186.041516\n",
       "RI    1130.811111\n",
       "PA    1052.225630\n",
       "MI     987.527959\n",
       "AZ     985.512121\n",
       "TX     985.314534\n",
       "DE     953.141176\n",
       "NV     929.096939\n",
       "OH     884.404947\n",
       "CO     841.107720\n",
       "WA     838.378750\n",
       "MN     806.294926\n",
       "MO     759.318335\n",
       "GA     758.430355\n",
       "FL     729.150931\n",
       "OR     581.739362\n",
       "IN     551.693878\n",
       "VA     548.133584\n",
       "UT     496.280000\n",
       "KY     473.880503\n",
       "NC     459.071843\n",
       "LA     458.334254\n",
       "NH     428.291667\n",
       "WI     419.881188\n",
       "TN     385.777908\n",
       "HI     364.328000\n",
       "OK     360.989537\n",
       "KS     346.024709\n",
       "SC     341.887946\n",
       "NE     323.809969\n",
       "AL     294.473310\n",
       "NM     259.846154\n",
       "ID     205.573864\n",
       "IA     194.691176\n",
       "MS     193.280000\n",
       "WV     188.069565\n",
       "AR     174.538144\n",
       "ME     165.232719\n",
       "VT     122.450000\n",
       "AK     110.506849\n",
       "SD      82.326389\n",
       "ND      46.313043\n",
       "WY      43.682692\n",
       "MT      41.642276\n",
       "Name: address_state, dtype: float64"
      ]
     },
     "execution_count": 50,
     "metadata": {},
     "output_type": "execute_result"
    }
   ],
   "source": [
    "pd.DataFrame(num_served_bgs_state/num_pantries_state).address_state.sort_values(ascending=False)"
   ]
  },
  {
   "cell_type": "code",
   "execution_count": null,
   "metadata": {},
   "outputs": [],
   "source": []
  }
 ],
 "metadata": {
  "kernelspec": {
   "display_name": "pantry_env",
   "language": "python",
   "name": "python3"
  },
  "language_info": {
   "codemirror_mode": {
    "name": "ipython",
    "version": 3
   },
   "file_extension": ".py",
   "mimetype": "text/x-python",
   "name": "python",
   "nbconvert_exporter": "python",
   "pygments_lexer": "ipython3",
   "version": "3.8.16"
  },
  "orig_nbformat": 4,
  "vscode": {
   "interpreter": {
    "hash": "31092ce0c996e8787f4b19c62caf821fc2a61fa3a509ce0d6e7ff4146971ca9f"
   }
  }
 },
 "nbformat": 4,
 "nbformat_minor": 2
}
