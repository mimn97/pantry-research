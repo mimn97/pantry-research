{
 "cells": [
  {
   "cell_type": "code",
   "execution_count": 3,
   "id": "3b8f7909-d8c0-4034-bc49-88944665625e",
   "metadata": {},
   "outputs": [],
   "source": [
    "import pandas as pd\n",
    "import googlemaps\n",
    "from datetime import datetime, timezone\n",
    "from tqdm import tqdm\n",
    "import csv\n",
    "\n",
    "tqdm.pandas()"
   ]
  },
  {
   "attachments": {},
   "cell_type": "markdown",
   "id": "e6b899f2",
   "metadata": {},
   "source": [
    "# 1. Define travel time function"
   ]
  },
  {
   "attachments": {},
   "cell_type": "markdown",
   "id": "e2f03813",
   "metadata": {},
   "source": [
    "Input your own API key for computing travel time (transit, walking) using Google Maps (Distance Matrix) API"
   ]
  },
  {
   "cell_type": "code",
   "execution_count": null,
   "id": "1db00add",
   "metadata": {},
   "outputs": [],
   "source": [
    "#Uncomment below when you get your own API key from Google Maps API\n",
    "\n",
    "#API_key = 'Your own API key'\n",
    "#gmaps = googlemaps.Client(key=API_key)"
   ]
  },
  {
   "attachments": {},
   "cell_type": "markdown",
   "id": "08be28cc",
   "metadata": {},
   "source": [
    "Define the function for computing travel time between FP and its serving neighborhood (census block group) within 25 miles of the FP"
   ]
  },
  {
   "cell_type": "code",
   "execution_count": 2,
   "id": "49208f06",
   "metadata": {
    "tags": []
   },
   "outputs": [],
   "source": [
    "# origin_lat, origin_lon: the latitude/longitude of BG\n",
    "# address: the address of the BG's nearest food pantry or bank.\n",
    "\n",
    "def compute_travel_time_bg(origin_lat, origin_lon, address):\n",
    "    \n",
    "    origin = '%f,%f' % (float(origin_lat), float(origin_lon))\n",
    "    destination = address\n",
    "    \n",
    "    dt = datetime.strptime(\"13/02/23 14:30\", \"%d/%m/%y %H:%M\") # change with your time (should be future time and UTC format)   \n",
    "    dt = dt.replace(tzinfo=timezone.utc)\n",
    "\n",
    "    result_transit = gmaps.distance_matrix(origin, destination, mode='transit', departure_time=dt)\n",
    "    result_walk = gmaps.distance_matrix(origin, destination, mode='walking', departure_time=dt)\n",
    "    \n",
    "    try:\n",
    "        if result_transit[\"rows\"][0][\"elements\"][0][\"status\"] == \"OK\":\n",
    "            if result_walk[\"rows\"][0][\"elements\"][0][\"status\"] == \"OK\":\n",
    "                duration_transit = result_transit[\"rows\"][0][\"elements\"][0]['duration']['value'] / 60\n",
    "                duration_walk = result_walk[\"rows\"][0][\"elements\"][0]['duration']['value'] / 60\n",
    "            else:\n",
    "                duration_transit = result_transit[\"rows\"][0][\"elements\"][0]['duration']['value'] / 60\n",
    "                duration_walk = None               \n",
    "        else:\n",
    "            if result_walk[\"rows\"][0][\"elements\"][0][\"status\"] == \"OK\":\n",
    "                duration_walk = result_walk[\"rows\"][0][\"elements\"][0]['duration']['value'] / 60\n",
    "                duration_transit = None\n",
    "            else:\n",
    "                duration_transit = None\n",
    "                duration_walk = None\n",
    "       \n",
    "        return (duration_transit, duration_walk) # minutes\n",
    "    \n",
    "    except IndexError:\n",
    "        return (None, None)"
   ]
  },
  {
   "attachments": {},
   "cell_type": "markdown",
   "id": "384c79d0",
   "metadata": {},
   "source": [
    "Example usage of `gmaps.distance_matrix` function"
   ]
  },
  {
   "cell_type": "code",
   "execution_count": 7,
   "id": "b3ac92b1-746d-4ae0-8239-9c4c2aa01869",
   "metadata": {},
   "outputs": [
    {
     "data": {
      "text/plain": [
       "{'destination_addresses': ['Lederle Graduate Research Tower, Amherst, MA 01002, USA'],\n",
       " 'origin_addresses': ['456 Sunderland Rd, Amherst, MA 01002, USA'],\n",
       " 'rows': [{'elements': [{'distance': {'text': '5.1 km', 'value': 5090},\n",
       "     'duration': {'text': '15 mins', 'value': 917},\n",
       "     'fare': {'currency': 'USD', 'text': '$1.50', 'value': 1.5},\n",
       "     'status': 'OK'}]}],\n",
       " 'status': 'OK'}"
      ]
     },
     "execution_count": 7,
     "metadata": {},
     "output_type": "execute_result"
    }
   ],
   "source": [
    "dt = datetime.strptime(\"13/02/23 11:30\", \"%d/%m/%y %H:%M\")  # change to your time zone in UTC\n",
    "dt = dt.replace(tzinfo=timezone.utc)\n",
    "\n",
    "gmaps.distance_matrix('Studio Arts Bldg, Amherst, MA 01003', 'Lederle Graduate Research Tower, Amherst, MA 01002', mode='transit', departure_time=dt)"
   ]
  },
  {
   "attachments": {},
   "cell_type": "markdown",
   "id": "717f71fa",
   "metadata": {},
   "source": [
    "# 2. Run `compute_travel_time_bg`"
   ]
  },
  {
   "attachments": {},
   "cell_type": "markdown",
   "id": "43b2778c",
   "metadata": {},
   "source": [
    ": This will create a csv file `bg_transit_adi.csv` in `data` folder, which contains all information about BGs, their nearset FPs, distance, ADI info, state info, and travel time (both by transit and by walking)."
   ]
  },
  {
   "cell_type": "code",
   "execution_count": 4,
   "id": "70f2905d",
   "metadata": {},
   "outputs": [],
   "source": [
    "food = pd.read_pickle('../data/fp_bg_pairs.pkl')"
   ]
  },
  {
   "attachments": {},
   "cell_type": "markdown",
   "id": "96e48b08-2ac0-41a1-9bf2-de82dc1a160b",
   "metadata": {},
   "source": [
    "`bg_near_pantry` is a dataframe which retrieves each of BGs in `food` dataset and their nearest FPs (≤ 25 miles). "
   ]
  },
  {
   "cell_type": "code",
   "execution_count": 5,
   "id": "78a7befb",
   "metadata": {},
   "outputs": [],
   "source": [
    "bg_near_pantry = food.loc[food.groupby('bg_fips')['distance_mi'].idxmin()]\n",
    "bg_near_pantry = bg_near_pantry[['bg_fips', 'address', 'bg_lat', 'bg_lon', 'distance_mi']].reset_index(drop=True)"
   ]
  },
  {
   "cell_type": "code",
   "execution_count": 7,
   "id": "44d16e17-3033-46fc-bd23-ba7a534bb866",
   "metadata": {},
   "outputs": [],
   "source": [
    "bg_near_pantry['address'] = bg_near_pantry['address'].str.strip() # strip white space"
   ]
  },
  {
   "cell_type": "code",
   "execution_count": 6,
   "id": "66aaf6b2",
   "metadata": {},
   "outputs": [
    {
     "data": {
      "text/html": [
       "<div>\n",
       "<style scoped>\n",
       "    .dataframe tbody tr th:only-of-type {\n",
       "        vertical-align: middle;\n",
       "    }\n",
       "\n",
       "    .dataframe tbody tr th {\n",
       "        vertical-align: top;\n",
       "    }\n",
       "\n",
       "    .dataframe thead th {\n",
       "        text-align: right;\n",
       "    }\n",
       "</style>\n",
       "<table border=\"1\" class=\"dataframe\">\n",
       "  <thead>\n",
       "    <tr style=\"text-align: right;\">\n",
       "      <th></th>\n",
       "      <th>bg_fips</th>\n",
       "      <th>address</th>\n",
       "      <th>bg_lat</th>\n",
       "      <th>bg_lon</th>\n",
       "      <th>distance_mi</th>\n",
       "    </tr>\n",
       "  </thead>\n",
       "  <tbody>\n",
       "    <tr>\n",
       "      <th>0</th>\n",
       "      <td>010010201001</td>\n",
       "      <td>203 N Court St, Prattville, AL 36067</td>\n",
       "      <td>32.465832</td>\n",
       "      <td>-86.489661</td>\n",
       "      <td>0.835864</td>\n",
       "    </tr>\n",
       "    <tr>\n",
       "      <th>1</th>\n",
       "      <td>010010201002</td>\n",
       "      <td>203 N Court St, Prattville, AL 36067</td>\n",
       "      <td>32.485873</td>\n",
       "      <td>-86.489672</td>\n",
       "      <td>1.684913</td>\n",
       "    </tr>\n",
       "    <tr>\n",
       "      <th>2</th>\n",
       "      <td>010010202001</td>\n",
       "      <td>203 N Court St, Prattville, AL 36067</td>\n",
       "      <td>32.480082</td>\n",
       "      <td>-86.474974</td>\n",
       "      <td>1.065305</td>\n",
       "    </tr>\n",
       "    <tr>\n",
       "      <th>3</th>\n",
       "      <td>010010202002</td>\n",
       "      <td>203 N Court St, Prattville, AL 36067</td>\n",
       "      <td>32.464435</td>\n",
       "      <td>-86.469766</td>\n",
       "      <td>0.327409</td>\n",
       "    </tr>\n",
       "    <tr>\n",
       "      <th>4</th>\n",
       "      <td>010010203001</td>\n",
       "      <td>203 N Court St, Prattville, AL 36067</td>\n",
       "      <td>32.480175</td>\n",
       "      <td>-86.460792</td>\n",
       "      <td>1.367486</td>\n",
       "    </tr>\n",
       "    <tr>\n",
       "      <th>...</th>\n",
       "      <td>...</td>\n",
       "      <td>...</td>\n",
       "      <td>...</td>\n",
       "      <td>...</td>\n",
       "      <td>...</td>\n",
       "    </tr>\n",
       "    <tr>\n",
       "      <th>238531</th>\n",
       "      <td>560430003012</td>\n",
       "      <td>620 Big Horn Ave, Worland, WY 82401</td>\n",
       "      <td>44.011329</td>\n",
       "      <td>-107.953427</td>\n",
       "      <td>0.529835</td>\n",
       "    </tr>\n",
       "    <tr>\n",
       "      <th>238532</th>\n",
       "      <td>560430003013</td>\n",
       "      <td>620 Big Horn Ave, Worland, WY 82401</td>\n",
       "      <td>44.018328</td>\n",
       "      <td>-107.955039</td>\n",
       "      <td>0.308140</td>\n",
       "    </tr>\n",
       "    <tr>\n",
       "      <th>238533</th>\n",
       "      <td>560430003021</td>\n",
       "      <td>620 Big Horn Ave, Worland, WY 82401</td>\n",
       "      <td>44.028771</td>\n",
       "      <td>-107.950748</td>\n",
       "      <td>0.966369</td>\n",
       "    </tr>\n",
       "    <tr>\n",
       "      <th>238534</th>\n",
       "      <td>560430003022</td>\n",
       "      <td>620 Big Horn Ave, Worland, WY 82401</td>\n",
       "      <td>44.012966</td>\n",
       "      <td>-107.937466</td>\n",
       "      <td>1.192660</td>\n",
       "    </tr>\n",
       "    <tr>\n",
       "      <th>238535</th>\n",
       "      <td>560459511001</td>\n",
       "      <td>103 S Belle Fourche Ave, Moorcroft, WY 82721</td>\n",
       "      <td>43.995102</td>\n",
       "      <td>-104.788256</td>\n",
       "      <td>20.174371</td>\n",
       "    </tr>\n",
       "  </tbody>\n",
       "</table>\n",
       "<p>238536 rows × 5 columns</p>\n",
       "</div>"
      ],
      "text/plain": [
       "             bg_fips                                       address     bg_lat   \n",
       "0       010010201001          203 N Court St, Prattville, AL 36067  32.465832  \\\n",
       "1       010010201002          203 N Court St, Prattville, AL 36067  32.485873   \n",
       "2       010010202001          203 N Court St, Prattville, AL 36067  32.480082   \n",
       "3       010010202002          203 N Court St, Prattville, AL 36067  32.464435   \n",
       "4       010010203001          203 N Court St, Prattville, AL 36067  32.480175   \n",
       "...              ...                                           ...        ...   \n",
       "238531  560430003012           620 Big Horn Ave, Worland, WY 82401  44.011329   \n",
       "238532  560430003013           620 Big Horn Ave, Worland, WY 82401  44.018328   \n",
       "238533  560430003021           620 Big Horn Ave, Worland, WY 82401  44.028771   \n",
       "238534  560430003022           620 Big Horn Ave, Worland, WY 82401  44.012966   \n",
       "238535  560459511001  103 S Belle Fourche Ave, Moorcroft, WY 82721  43.995102   \n",
       "\n",
       "            bg_lon  distance_mi  \n",
       "0       -86.489661     0.835864  \n",
       "1       -86.489672     1.684913  \n",
       "2       -86.474974     1.065305  \n",
       "3       -86.469766     0.327409  \n",
       "4       -86.460792     1.367486  \n",
       "...            ...          ...  \n",
       "238531 -107.953427     0.529835  \n",
       "238532 -107.955039     0.308140  \n",
       "238533 -107.950748     0.966369  \n",
       "238534 -107.937466     1.192660  \n",
       "238535 -104.788256    20.174371  \n",
       "\n",
       "[238536 rows x 5 columns]"
      ]
     },
     "execution_count": 6,
     "metadata": {},
     "output_type": "execute_result"
    }
   ],
   "source": [
    "bg_near_pantry"
   ]
  },
  {
   "attachments": {},
   "cell_type": "markdown",
   "id": "ffb76de8",
   "metadata": {},
   "source": [
    "Please be aware that running the function will take significant amount of time (~ 6-7 hours) to complete. "
   ]
  },
  {
   "cell_type": "code",
   "execution_count": null,
   "id": "2be1aae0",
   "metadata": {},
   "outputs": [],
   "source": [
    "bg_near_pantry['transit_time'], bg_near_pantry['walking_time'] = zip(*bg_near_pantry.progress_apply(lambda x:compute_travel_time_bg(x.bg_lat, x.bg_lon, x.address), axis=1))"
   ]
  },
  {
   "attachments": {},
   "cell_type": "markdown",
   "id": "4c073f41",
   "metadata": {},
   "source": [
    "(OPTIONAL) Save as a csv file that contains travel time between each BG and its nearest pantry"
   ]
  },
  {
   "cell_type": "code",
   "execution_count": 9,
   "id": "8a1caab1",
   "metadata": {},
   "outputs": [],
   "source": [
    "# bg_near_pantry.to_csv('../data/bg_near_pantry_time.csv', index=False) # save as a csv file that contains travel time between each BG and its nearest pantry"
   ]
  },
  {
   "attachments": {},
   "cell_type": "markdown",
   "id": "4f2c8bcb-04b2-4e9e-b7fe-95be4df3d1ff",
   "metadata": {},
   "source": [
    "## Now, you will get the dataset to conduct accessibility analysis! "
   ]
  },
  {
   "attachments": {},
   "cell_type": "markdown",
   "id": "b3d230ec",
   "metadata": {},
   "source": [
    "Optional code below as an alternative approach of creating transit time dataset. No need to run. "
   ]
  },
  {
   "cell_type": "code",
   "execution_count": null,
   "id": "feb65e24",
   "metadata": {},
   "outputs": [],
   "source": [
    "# with open('../data/bg_transit_adi.csv', 'w', encoding='UTF-8') as fd:\n",
    "    \n",
    "#     writer = csv.writer(fd)\n",
    "#     writer.writerow(['bg_fips', 'address', 'distance_mi', 'ADI_NATRANK', 'ADI_STATERNK', 'bg_state', 'address_state', \n",
    "#                      'transit_time', 'walking_time'])        \n",
    "    \n",
    "#     for i in tqdm(range(len(bg_near_pantry))):\n",
    "        \n",
    "#         bg_fips = bg_near_pantry['bg_fips'].iloc[i] # FIPS\n",
    "#         bg_lat = bg_near_pantry['bg_lat'].iloc[i] # Latitude\n",
    "#         bg_lon = bg_near_pantry['bg_lon'].iloc[i] # Longitude\n",
    "#         fp_address = bg_near_pantry['address'].iloc[i] # address\n",
    "#         bg_distance = bg_near_pantry['distance_mi'].iloc[i] # distance between BG and nearest FP\n",
    "#         bg_adi = bg_near_pantry['ADI_NATRANK'].iloc[i] # BG's national ADI\n",
    "#         bg_state_adi = bg_near_pantry['ADI_STATERNK'].iloc[i] # BG's state ADI\n",
    "#         bg_state = bg_near_pantry['bg_state'].iloc[i] # BG's state\n",
    "#         fp_state = bg_near_pantry['address_state'].iloc[i] # FP's state\n",
    "        \n",
    "#         (transit_t, walk_t) = compute_travel_time_bg(bg_lat, bg_lon, fp_address)\n",
    "        \n",
    "#         writer.writerow([bg_fips, fp_address, bg_distance, bg_adi, bg_state_adi, bg_state, fp_state, transit_t, walk_t])\n",
    "\n",
    "# fd.close()"
   ]
  }
 ],
 "metadata": {
  "kernelspec": {
   "display_name": "Python 3",
   "language": "python",
   "name": "python3"
  },
  "language_info": {
   "codemirror_mode": {
    "name": "ipython",
    "version": 3
   },
   "file_extension": ".py",
   "mimetype": "text/x-python",
   "name": "python",
   "nbconvert_exporter": "python",
   "pygments_lexer": "ipython3",
   "version": "3.8.16"
  },
  "vscode": {
   "interpreter": {
    "hash": "31092ce0c996e8787f4b19c62caf821fc2a61fa3a509ce0d6e7ff4146971ca9f"
   }
  }
 },
 "nbformat": 4,
 "nbformat_minor": 5
}
