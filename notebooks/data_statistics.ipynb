{
 "cells": [
  {
   "cell_type": "code",
   "execution_count": 1,
   "metadata": {},
   "outputs": [],
   "source": [
    "import pandas as pd\n",
    "import numpy as np\n",
    "import matplotlib.pyplot as plt\n",
    "from tqdm import tqdm\n",
    "import math\n",
    "import seaborn as sns\n",
    "\n",
    "%matplotlib inline\n",
    "tqdm.pandas()"
   ]
  },
  {
   "attachments": {},
   "cell_type": "markdown",
   "metadata": {},
   "source": [
    "# 1. Prepare dataset\n",
    "\n",
    "- `bg_adi`: 2020-adjusted ADI percentile for every BGs\n",
    "- `food_adi`: for every BG, show every pantries within 25 mile (-> should be 20 mile)"
   ]
  },
  {
   "cell_type": "code",
   "execution_count": 3,
   "metadata": {},
   "outputs": [],
   "source": [
    "bg_adi = pd.read_csv('../data/convert_20BG_to_10BG_with_adi.csv', \n",
    "                       header=0, sep=',', \n",
    "                      dtype={'bg_fips':str, 'ADI_NATRANK':float, 'ADI_STATERNK':float})\n",
    "\n",
    "bg_adi['ADI_NATRANK'] = np.floor(bg_adi['ADI_NATRANK'])\n",
    "bg_adi['ADI_STATERNK'] = np.floor(bg_adi['ADI_STATERNK'])"
   ]
  },
  {
   "cell_type": "code",
   "execution_count": null,
   "metadata": {},
   "outputs": [],
   "source": []
  }
 ],
 "metadata": {
  "kernelspec": {
   "display_name": "pantry_env",
   "language": "python",
   "name": "python3"
  },
  "language_info": {
   "codemirror_mode": {
    "name": "ipython",
    "version": 3
   },
   "file_extension": ".py",
   "mimetype": "text/x-python",
   "name": "python",
   "nbconvert_exporter": "python",
   "pygments_lexer": "ipython3",
   "version": "3.8.16"
  },
  "orig_nbformat": 4,
  "vscode": {
   "interpreter": {
    "hash": "31092ce0c996e8787f4b19c62caf821fc2a61fa3a509ce0d6e7ff4146971ca9f"
   }
  }
 },
 "nbformat": 4,
 "nbformat_minor": 2
}
